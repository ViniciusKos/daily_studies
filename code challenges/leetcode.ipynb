{
 "cells": [
  {
   "cell_type": "raw",
   "metadata": {},
   "source": [
    "If I want to find out all possible combination to select two stocks among 10 stocks I'll use COMBINATION, because here the order does not matter.\n",
    "If I want to mitigate the creation of weak passwords by restricting all possible permutation through consecutive numbers. If I used combination I\n",
    "wouldn't take into account the reverse order, and the password will be as weak.\n",
    "\n",
    "Tuples can have indefinite number of itens\n",
    "Input receives an input from prompt, it can have a message\n"
   ]
  },
  {
   "cell_type": "markdown",
   "metadata": {},
   "source": [
    "# 1.0 Two Sums"
   ]
  },
  {
   "cell_type": "code",
   "execution_count": 4,
   "metadata": {},
   "outputs": [
    {
     "data": {
      "text/plain": [
       "[0, 1]"
      ]
     },
     "execution_count": 4,
     "metadata": {},
     "output_type": "execute_result"
    }
   ],
   "source": [
    "import itertools\n",
    "nums = [3,3]\n",
    "class Solution:\n",
    "    def twoSum(self, nums: list[int], target: int) -> list[int]:\n",
    "        for l in itertools.combinations(nums,2):\n",
    "            if l[0]+l[1]==target:\n",
    "                return [i for i in range(len(nums)) if nums[i] in (l[0],l[1])]\n",
    "\n",
    "Solution().twoSum(nums = nums, target=6)"
   ]
  },
  {
   "cell_type": "raw",
   "metadata": {},
   "source": [
    "I have used itertools.combination and list comprehension"
   ]
  },
  {
   "cell_type": "markdown",
   "metadata": {},
   "source": [
    "# 2.0 Palindrome Number"
   ]
  },
  {
   "cell_type": "code",
   "execution_count": 18,
   "metadata": {},
   "outputs": [
    {
     "data": {
      "text/plain": [
       "True"
      ]
     },
     "execution_count": 18,
     "metadata": {},
     "output_type": "execute_result"
    }
   ],
   "source": [
    "class Solution:\n",
    "    def isPalindrome(self, x: int) -> bool:\n",
    "        str_num = str(x)\n",
    "        return str_num == str_num[::-1]\n",
    "Solution().isPalindrome(232)"
   ]
  },
  {
   "cell_type": "raw",
   "metadata": {},
   "source": [
    "If you has to use the same transformed variable more than once, assign it to a variable instead of transforming multiple times, this has halved my runtime "
   ]
  }
 ],
 "metadata": {
  "kernelspec": {
   "display_name": "env_studies",
   "language": "python",
   "name": "python3"
  },
  "language_info": {
   "codemirror_mode": {
    "name": "ipython",
    "version": 3
   },
   "file_extension": ".py",
   "mimetype": "text/x-python",
   "name": "python",
   "nbconvert_exporter": "python",
   "pygments_lexer": "ipython3",
   "version": "3.10.4"
  }
 },
 "nbformat": 4,
 "nbformat_minor": 2
}
