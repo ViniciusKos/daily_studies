{
 "cells": [
  {
   "cell_type": "code",
   "execution_count": 1,
   "metadata": {},
   "outputs": [
    {
     "ename": "ValueError",
     "evalue": "invalid literal for int() with base 10: ''",
     "output_type": "error",
     "traceback": [
      "\u001b[1;31m---------------------------------------------------------------------------\u001b[0m",
      "\u001b[1;31mValueError\u001b[0m                                Traceback (most recent call last)",
      "Cell \u001b[1;32mIn[1], line 15\u001b[0m\n\u001b[0;32m     12\u001b[0m     tuples_condition \u001b[38;5;241m=\u001b[39m [i \u001b[38;5;28;01mfor\u001b[39;00m i \u001b[38;5;129;01min\u001b[39;00m tuples_combines \u001b[38;5;28;01mif\u001b[39;00m \u001b[38;5;124m\"\u001b[39m\u001b[38;5;124ma\u001b[39m\u001b[38;5;124m\"\u001b[39m \u001b[38;5;129;01min\u001b[39;00m i]\n\u001b[0;32m     13\u001b[0m     \u001b[38;5;28mprint\u001b[39m(\u001b[38;5;28mlen\u001b[39m(tuples_condition)\u001b[38;5;241m/\u001b[39m\u001b[38;5;28mlen\u001b[39m(tuples_combines))\n\u001b[1;32m---> 15\u001b[0m N \u001b[38;5;241m=\u001b[39m \u001b[38;5;28;43mint\u001b[39;49m\u001b[43m(\u001b[49m\u001b[38;5;28;43minput\u001b[39;49m\u001b[43m(\u001b[49m\u001b[43m)\u001b[49m\u001b[43m)\u001b[49m\n\u001b[0;32m     16\u001b[0m letters \u001b[38;5;241m=\u001b[39m \u001b[38;5;28minput\u001b[39m()\n\u001b[0;32m     17\u001b[0m K \u001b[38;5;241m=\u001b[39m \u001b[38;5;28mint\u001b[39m(\u001b[38;5;28minput\u001b[39m())\n",
      "\u001b[1;31mValueError\u001b[0m: invalid literal for int() with base 10: ''"
     ]
    }
   ],
   "source": [
    "# Online Python - IDE, Editor, Compiler, Interpreter\n",
    "li_tu = \"a a c d\"\n",
    "\n",
    "from itertools import combinations\n",
    "\n",
    "\n",
    "\n",
    "\n",
    "def iterador(N, list_letters, K):\n",
    "    string = ''.join(list_letters.split())\n",
    "    tuples_combines = [i for i in combinations(string, K)]\n",
    "    tuples_condition = [i for i in tuples_combines if \"a\" in i]\n",
    "    print(len(tuples_condition)/len(tuples_combines))\n",
    "\n",
    "N = int(input())\n",
    "letters = input()\n",
    "K = int(input())\n",
    "\n",
    "iterador(N, letters, K)\n"
   ]
  },
  {
   "cell_type": "raw",
   "metadata": {},
   "source": [
    "If I want to find out all possible combination to select two stocks among 10 stocks I'll use COMBINATION, because here the order does not matter.\n",
    "If I want to mitigate the creation of weak passwords by restricting all possible permutation through consecutive numbers. If I used combination I\n",
    "wouldn't take into account the reverse order, and the password will be as weak.\n",
    "\n",
    "Tuples can have indefinite number of itens\n",
    "Input receives an input from prompt, it can have a message\n"
   ]
  },
  {
   "cell_type": "markdown",
   "metadata": {},
   "source": [
    "# Permutations and list comprehension"
   ]
  },
  {
   "cell_type": "raw",
   "metadata": {},
   "source": [
    "X = int(input())\n",
    "Y = int(input())\n",
    "Z = int(input())\n",
    "N = int(input())\n",
    "\n",
    "X += 1\n",
    "Y += 1\n",
    "Z += 1\n",
    "\n",
    "tmp_list = [[x, y, z] for x in range(X) for y in range(Y) for z in range(Z) if x + y + z != N]\n",
    "print(tmp_list)"
   ]
  },
  {
   "cell_type": "raw",
   "metadata": {},
   "source": [
    "\n",
    "# Online Python - IDE, Editor, Compiler, Interpreter\n",
    "if __name__ == '__main__':\n",
    "    n = int(input())\n",
    "    arr = map(int, input().split())\n",
    "    n_sorted = sorted(set(arr))\n",
    "    print(n_sorted[-2])"
   ]
  },
  {
   "cell_type": "code",
   "execution_count": null,
   "metadata": {},
   "outputs": [
    {
     "name": "stdout",
     "output_type": "stream",
     "text": [
      "bebe\n",
      "bibi\n"
     ]
    }
   ],
   "source": [
    "records=[[\"baba\", 3], [\"bebe\", 5], [\"bibi\", 5]]\n",
    "records_sorted = sorted(set([i[1] for i in records]))\n",
    "\n",
    "if len(records_sorted) > 1:\n",
    "    for name in sorted(x[0] for x in records if x[1] == records_sorted[1]):\n",
    "        print(name)"
   ]
  },
  {
   "cell_type": "code",
   "execution_count": null,
   "metadata": {},
   "outputs": [
    {
     "data": {
      "text/plain": [
       "{3, 5}"
      ]
     },
     "execution_count": 38,
     "metadata": {},
     "output_type": "execute_result"
    }
   ],
   "source": [
    "nlargest = sorted(set([i[1] for i in records_sorted]))\n",
    "nlargest"
   ]
  },
  {
   "cell_type": "code",
   "execution_count": null,
   "metadata": {},
   "outputs": [
    {
     "data": {
      "text/plain": [
       "3"
      ]
     },
     "execution_count": 39,
     "metadata": {},
     "output_type": "execute_result"
    }
   ],
   "source": [
    "list_nlargest = list(nlargest)[-2]\n",
    "list_nlargest"
   ]
  },
  {
   "cell_type": "code",
   "execution_count": null,
   "metadata": {},
   "outputs": [
    {
     "name": "stdout",
     "output_type": "stream",
     "text": [
      "baba\n"
     ]
    },
    {
     "data": {
      "text/plain": [
       "[None]"
      ]
     },
     "execution_count": 40,
     "metadata": {},
     "output_type": "execute_result"
    }
   ],
   "source": [
    "[print(i[0]) for i in records_sorted if i[1] == list_nlargest ]"
   ]
  },
  {
   "cell_type": "markdown",
   "metadata": {},
   "source": [
    "## Nested list"
   ]
  },
  {
   "cell_type": "code",
   "execution_count": null,
   "metadata": {},
   "outputs": [],
   "source": [
    "a = [[input(), float(input())] for i in range(int(input()))]\n",
    "s = sorted(set([x[1] for x in a]))\n",
    "if len(s) > 1:\n",
    "    for name in sorted(x[0] for x in a if x[1] == s[1]):\n",
    "        print(name)\n"
   ]
  },
  {
   "cell_type": "markdown",
   "metadata": {},
   "source": [
    "# Percentage"
   ]
  },
  {
   "cell_type": "code",
   "execution_count": null,
   "metadata": {},
   "outputs": [],
   "source": [
    "\n",
    "n = int(input())\n",
    "student_marks = {}\n",
    "for _ in range(n):\n",
    "    name, *line = input().split()\n",
    "    scores = list(map(float, line))\n",
    "    student_marks[name] = scores\n",
    "query_name = input()"
   ]
  },
  {
   "cell_type": "code",
   "execution_count": null,
   "metadata": {},
   "outputs": [
    {
     "data": {
      "text/plain": [
       "112"
      ]
     },
     "execution_count": 6,
     "metadata": {},
     "output_type": "execute_result"
    }
   ],
   "source": [
    "sum([24, 55, 33])"
   ]
  },
  {
   "cell_type": "code",
   "execution_count": null,
   "metadata": {},
   "outputs": [
    {
     "data": {
      "text/plain": [
       "56.0"
      ]
     },
     "execution_count": 7,
     "metadata": {},
     "output_type": "execute_result"
    }
   ],
   "source": [
    "import numpy as np\n",
    "np.mean([52,56,60])"
   ]
  },
  {
   "cell_type": "code",
   "execution_count": null,
   "metadata": {},
   "outputs": [
    {
     "name": "stdout",
     "output_type": "stream",
     "text": [
      "fufu\n",
      "[]\n",
      "2\n",
      "[]\n"
     ]
    }
   ],
   "source": [
    "for _ in range(2):\n",
    "    name, *line = input().split()\n",
    "    print(name)\n",
    "    print(line)"
   ]
  },
  {
   "cell_type": "code",
   "execution_count": null,
   "metadata": {},
   "outputs": [
    {
     "ename": "TypeError",
     "evalue": "'int' object is not iterable",
     "output_type": "error",
     "traceback": [
      "\u001b[1;31m---------------------------------------------------------------------------\u001b[0m",
      "\u001b[1;31mTypeError\u001b[0m                                 Traceback (most recent call last)",
      "Cell \u001b[1;32mIn[14], line 5\u001b[0m\n\u001b[0;32m      3\u001b[0m N \u001b[38;5;241m=\u001b[39m \u001b[38;5;28mint\u001b[39m(\u001b[38;5;28minput\u001b[39m())\n\u001b[0;32m      4\u001b[0m commands \u001b[38;5;241m=\u001b[39m{}\n\u001b[1;32m----> 5\u001b[0m \u001b[38;5;28;01mfor\u001b[39;00m i \u001b[38;5;129;01min\u001b[39;00m N:\n\u001b[0;32m      6\u001b[0m     commands[\u001b[38;5;28minput\u001b[39m()]\u001b[38;5;241m=\u001b[39m\u001b[38;5;28mint\u001b[39m(\u001b[38;5;28minput\u001b[39m)\n",
      "\u001b[1;31mTypeError\u001b[0m: 'int' object is not iterable"
     ]
    }
   ],
   "source": [
    "n = int(input())\n",
    "s = set(map(int, input().split()))\n",
    "N = int(input())\n",
    "for i in range(N):\n",
    "    commands = input().split()\n",
    "    if commands[0] == \"pop\":\n",
    "        s.pop()\n",
    "    elif commands[0] == \"remove\":\n",
    "        s.remove(int(commands[1]))\n",
    "    else:\n",
    "        s.discard(int(commands[1]))\n",
    "print(sum(s))"
   ]
  },
  {
   "cell_type": "code",
   "execution_count": null,
   "metadata": {},
   "outputs": [
    {
     "data": {
      "text/plain": [
       "{2, 3, 4}"
      ]
     },
     "execution_count": 10,
     "metadata": {},
     "output_type": "execute_result"
    }
   ],
   "source": [
    "N = int(input())\n",
    "commands ={}\n",
    "for i in N:\n",
    "    commands[input()]=int(input)"
   ]
  },
  {
   "cell_type": "code",
   "execution_count": null,
   "metadata": {},
   "outputs": [
    {
     "data": {
      "text/plain": [
       "9"
      ]
     },
     "execution_count": 19,
     "metadata": {},
     "output_type": "execute_result"
    }
   ],
   "source": [
    "sum({2, 4, 3})"
   ]
  },
  {
   "cell_type": "markdown",
   "metadata": {},
   "source": [
    "# 3.0 List"
   ]
  },
  {
   "cell_type": "code",
   "execution_count": null,
   "metadata": {},
   "outputs": [],
   "source": [
    "N = int(input())\n",
    "li = []\n",
    "for i in range(N):\n",
    "    commands = input().split()\n",
    "    if commands[0] == \"insert\":\n",
    "        li.insert(int(commands[1]), int(commands[2]))\n",
    "    else:\n",
    "        pass"
   ]
  },
  {
   "cell_type": "code",
   "execution_count": null,
   "metadata": {},
   "outputs": [],
   "source": [
    "li = [2, \"4\" ,\"8\"]\n",
    "\n",
    "li[1:] = list(map(int, li[1:]))"
   ]
  },
  {
   "cell_type": "code",
   "execution_count": null,
   "metadata": {},
   "outputs": [
    {
     "data": {
      "text/plain": [
       "[4, 8]"
      ]
     },
     "execution_count": 30,
     "metadata": {},
     "output_type": "execute_result"
    }
   ],
   "source": [
    "li[1:]"
   ]
  },
  {
   "cell_type": "code",
   "execution_count": null,
   "metadata": {},
   "outputs": [
    {
     "data": {
      "text/plain": [
       "int"
      ]
     },
     "execution_count": 32,
     "metadata": {},
     "output_type": "execute_result"
    }
   ],
   "source": [
    "type(li[0])"
   ]
  },
  {
   "cell_type": "markdown",
   "metadata": {},
   "source": [
    "# 4.0 Tuples"
   ]
  },
  {
   "cell_type": "code",
   "execution_count": null,
   "metadata": {},
   "outputs": [
    {
     "name": "stdout",
     "output_type": "stream",
     "text": [
      "-3550055125485641917\n"
     ]
    }
   ],
   "source": [
    "n = int(input())\n",
    "print(hash(tuple([int(x) for x in input().split()])))\n"
   ]
  },
  {
   "cell_type": "markdown",
   "metadata": {},
   "source": [
    "# 5.0 String separation"
   ]
  },
  {
   "cell_type": "code",
   "execution_count": 22,
   "metadata": {},
   "outputs": [
    {
     "name": "stdout",
     "output_type": "stream",
     "text": [
      "5\n"
     ]
    }
   ],
   "source": [
    "def split_and_join(line):\n",
    "    return \"-\".join(line.split())\n",
    "    # write your code here\n",
    "\n",
    "if __name__ == '__main__':\n",
    "    line = input()\n",
    "    result = split_and_join(line)\n",
    "    print(result)"
   ]
  },
  {
   "cell_type": "markdown",
   "metadata": {},
   "source": [
    "# 6.0 String separation"
   ]
  },
  {
   "cell_type": "code",
   "execution_count": 2,
   "metadata": {},
   "outputs": [
    {
     "data": {
      "text/plain": [
       "['a', 'b', 'r', 'a', 'c', 'a', 'd', 'a', 'b', 'r', 'a']"
      ]
     },
     "execution_count": 2,
     "metadata": {},
     "output_type": "execute_result"
    }
   ],
   "source": [
    "string = \"abracadabra\"\n",
    "l = list(string)\n",
    "l"
   ]
  },
  {
   "cell_type": "markdown",
   "metadata": {},
   "source": [
    "# 7.0 String Mutations"
   ]
  },
  {
   "cell_type": "code",
   "execution_count": null,
   "metadata": {},
   "outputs": [],
   "source": [
    "def mutate_string(string, position, character):\n",
    "    return string[:position] + str(character) + string[position+1:]\n",
    "\n",
    "if __name__ == '__main__':\n",
    "    s = input()\n",
    "    i, c = input().split()\n",
    "    s_new = mutate_string(s, int(i), c)\n",
    "    print(s_new)"
   ]
  },
  {
   "cell_type": "code",
   "execution_count": 5,
   "metadata": {},
   "outputs": [
    {
     "data": {
      "text/plain": [
       "'ab'"
      ]
     },
     "execution_count": 5,
     "metadata": {},
     "output_type": "execute_result"
    }
   ],
   "source": [
    "sg = \"abcdef\"\n",
    "sg[:2]"
   ]
  },
  {
   "cell_type": "markdown",
   "metadata": {},
   "source": [
    "# 8.0 Find a String"
   ]
  },
  {
   "cell_type": "code",
   "execution_count": 7,
   "metadata": {},
   "outputs": [
    {
     "name": "stdout",
     "output_type": "stream",
     "text": [
      "0\n"
     ]
    }
   ],
   "source": [
    "def count_substring(string, sub_string):\n",
    "    string = str(string)\n",
    "    sub_string = str(sub_string)\n",
    "    cont = 0\n",
    "    for i in range(0, len(string)):\n",
    "        if string[i:i+len(sub_string)] == sub_string:\n",
    "            cont += 1\n",
    "    return cont\n",
    "\n",
    "if __name__ == '__main__':\n",
    "    string = input().strip()\n",
    "    sub_string = input().strip()\n",
    "    \n",
    "    count = count_substring(string, sub_string)\n",
    "    print(count)"
   ]
  },
  {
   "cell_type": "markdown",
   "metadata": {},
   "source": [
    "# 9.0 Lambda Function"
   ]
  },
  {
   "cell_type": "code",
   "execution_count": 2,
   "metadata": {},
   "outputs": [
    {
     "name": "stdout",
     "output_type": "stream",
     "text": [
      "1\n",
      "1\n",
      "2\n",
      "3\n",
      "5\n",
      "8\n"
     ]
    }
   ],
   "source": [
    "a, b = 0, 1  \n",
    "\n",
    "n = 10\n",
    "\n",
    "while b < n:\n",
    "    print(b)\n",
    "    a, b = b, a+b"
   ]
  },
  {
   "cell_type": "code",
   "execution_count": 7,
   "metadata": {},
   "outputs": [
    {
     "name": "stdout",
     "output_type": "stream",
     "text": [
      "[0, 1, 1, 8]\n"
     ]
    }
   ],
   "source": [
    "cube = lambda x: x**3\n",
    "\n",
    "def fibonacci(n):\n",
    "    a, b = 0, 1\n",
    "    li = []\n",
    "    while len(li) < n:\n",
    "        li.append(a)\n",
    "        a, b = b, a+b\n",
    "        \n",
    "    return li\n",
    "    \n",
    "    # return a list of fibonacci numbers\n",
    "\n",
    "if __name__ == '__main__':\n",
    "    n = int(input())\n",
    "    print(list(map(cube, fibonacci(n))))"
   ]
  },
  {
   "cell_type": "code",
   "execution_count": 6,
   "metadata": {},
   "outputs": [
    {
     "name": "stdout",
     "output_type": "stream",
     "text": [
      "1 1\n"
     ]
    }
   ],
   "source": [
    "a, b = 0, 1\n",
    "\n",
    "a, b = b, a+b\n",
    "\n",
    "print(a, b)"
   ]
  },
  {
   "cell_type": "markdown",
   "metadata": {},
   "source": [
    "# 10. Counters"
   ]
  },
  {
   "cell_type": "code",
   "execution_count": 19,
   "metadata": {},
   "outputs": [
    {
     "name": "stdout",
     "output_type": "stream",
     "text": [
      "True\n"
     ]
    }
   ],
   "source": [
    "import re \n",
    "expression = r\"[a-zA-Z0-9_-]{1,}@[a-zA-Z0-9]*\\.[a-zA-Z]{0,3}\"\n",
    "if re.fullmatch(expression, \"lara@hackerrank.com\"):\n",
    "    print(True)\n",
    "else:\n",
    "    print(False)"
   ]
  },
  {
   "cell_type": "code",
   "execution_count": null,
   "metadata": {},
   "outputs": [],
   "source": []
  },
  {
   "cell_type": "code",
   "execution_count": 25,
   "metadata": {},
   "outputs": [
    {
     "ename": "ValueError",
     "evalue": "invalid literal for int() with base 10: ''",
     "output_type": "error",
     "traceback": [
      "\u001b[1;31m---------------------------------------------------------------------------\u001b[0m",
      "\u001b[1;31mValueError\u001b[0m                                Traceback (most recent call last)",
      "Cell \u001b[1;32mIn[25], line 3\u001b[0m\n\u001b[0;32m      1\u001b[0m \u001b[38;5;28;01mfrom\u001b[39;00m \u001b[38;5;21;01mcollections\u001b[39;00m \u001b[38;5;28;01mimport\u001b[39;00m Counter\n\u001b[0;32m      2\u001b[0m \u001b[38;5;66;03m# Enter your code here. Read input from STDIN. Print output to STDOUT\u001b[39;00m\n\u001b[1;32m----> 3\u001b[0m X \u001b[38;5;241m=\u001b[39m \u001b[38;5;28;43mint\u001b[39;49m\u001b[43m(\u001b[49m\u001b[38;5;28;43minput\u001b[39;49m\u001b[43m(\u001b[49m\u001b[43m)\u001b[49m\u001b[43m)\u001b[49m\n\u001b[0;32m      5\u001b[0m shoes_sizes \u001b[38;5;241m=\u001b[39m Counter(\u001b[38;5;28mlist\u001b[39m(\u001b[38;5;28mmap\u001b[39m(\u001b[38;5;28mint\u001b[39m, \u001b[38;5;28minput\u001b[39m()\u001b[38;5;241m.\u001b[39msplit())))\u001b[38;5;241m.\u001b[39mitems()\n\u001b[0;32m      7\u001b[0m N \u001b[38;5;241m=\u001b[39m \u001b[38;5;28mint\u001b[39m(\u001b[38;5;28minput\u001b[39m())\n",
      "\u001b[1;31mValueError\u001b[0m: invalid literal for int() with base 10: ''"
     ]
    }
   ],
   "source": [
    "\n",
    "# Enter your code here. Read input from STDIN. Print output to STDOUT\n",
    "X = int(input())\n",
    "\n",
    "shoes_sizes = Counter(list(map(int, input().split()))).items()\n",
    "\n",
    "N = int(input())\n",
    "\n",
    "shoes_size_desired = []\n",
    "for i in range(N):\n",
    "    shoes_size_desired += list(map(int, input().split()))\n",
    "    \n",
    "    \n",
    "shoes_quantities = Counter(shoes_size_desired).items()\n",
    "    \n",
    "\n",
    "\n",
    "print(X)\n",
    "print(shoes_sizes)\n",
    "print(N)\n",
    "print(shoes_quantities)"
   ]
  },
  {
   "cell_type": "code",
   "execution_count": 38,
   "metadata": {},
   "outputs": [],
   "source": [
    "from collections import Counter\n",
    "\n",
    "c = Counter([3, 5, 5, 6])"
   ]
  },
  {
   "cell_type": "code",
   "execution_count": 50,
   "metadata": {},
   "outputs": [
    {
     "data": {
      "text/plain": [
       "[3, 5, 6]"
      ]
     },
     "execution_count": 50,
     "metadata": {},
     "output_type": "execute_result"
    }
   ],
   "source": [
    "list(c.keys())"
   ]
  },
  {
   "cell_type": "code",
   "execution_count": 53,
   "metadata": {},
   "outputs": [
    {
     "data": {
      "text/plain": [
       "[3, 5, 5, 6]"
      ]
     },
     "execution_count": 53,
     "metadata": {},
     "output_type": "execute_result"
    }
   ],
   "source": [
    "[i for i in c.elements()]"
   ]
  },
  {
   "cell_type": "code",
   "execution_count": null,
   "metadata": {},
   "outputs": [],
   "source": [
    "\n",
    "from collections import Counter\n",
    "# Enter your code here. Read input from STDIN. Print output to STDOUT\n",
    "X = int(input())\n",
    "\n",
    "shoes_sizes = list(map(int, input().split()))\n",
    "\n",
    "N = int(input())\n",
    "\n",
    "amount = 0\n",
    "for i in range(N):\n",
    "    shoes_desired = list(map(int, input().split()))\n",
    "    if shoes_desired[0] in shoes_sizes:\n",
    "        amount =+ shoes_desired[1]\n",
    "        shoes_sizes.remove(shoes_desired[0])\n",
    "    else:\n",
    "        continue\n",
    "    \n",
    "\n",
    "    \n",
    "\n",
    "\n",
    "print(X)\n",
    "print(shoes_sizes)\n",
    "print(N)\n",
    "print(amount)"
   ]
  },
  {
   "cell_type": "code",
   "execution_count": 54,
   "metadata": {},
   "outputs": [
    {
     "name": "stdout",
     "output_type": "stream",
     "text": [
      "50\n"
     ]
    },
    {
     "ename": "KeyError",
     "evalue": "'Grapes'",
     "output_type": "error",
     "traceback": [
      "\u001b[1;31m---------------------------------------------------------------------------\u001b[0m",
      "\u001b[1;31mKeyError\u001b[0m                                  Traceback (most recent call last)",
      "Cell \u001b[1;32mIn[54], line 5\u001b[0m\n\u001b[0;32m      3\u001b[0m d[\u001b[38;5;124m'\u001b[39m\u001b[38;5;124mOrange\u001b[39m\u001b[38;5;124m'\u001b[39m]\u001b[38;5;241m=\u001b[39m\u001b[38;5;241m20\u001b[39m\n\u001b[0;32m      4\u001b[0m \u001b[38;5;28mprint\u001b[39m(d[\u001b[38;5;124m'\u001b[39m\u001b[38;5;124mApple\u001b[39m\u001b[38;5;124m'\u001b[39m])\n\u001b[1;32m----> 5\u001b[0m \u001b[38;5;28mprint\u001b[39m(\u001b[43md\u001b[49m\u001b[43m[\u001b[49m\u001b[38;5;124;43m'\u001b[39;49m\u001b[38;5;124;43mGrapes\u001b[39;49m\u001b[38;5;124;43m'\u001b[39;49m\u001b[43m]\u001b[49m)\u001b[38;5;66;03m# This gives Key Error\u001b[39;00m\n",
      "\u001b[1;31mKeyError\u001b[0m: 'Grapes'"
     ]
    }
   ],
   "source": [
    "d={}\n",
    "d['Apple']=50\n",
    "d['Orange']=20\n",
    "print(d['Apple'])\n",
    "print(d['Grapes'])# This gives Key Error"
   ]
  },
  {
   "cell_type": "code",
   "execution_count": 55,
   "metadata": {},
   "outputs": [
    {
     "name": "stdout",
     "output_type": "stream",
     "text": [
      "50\n",
      "50\n",
      "0\n"
     ]
    }
   ],
   "source": [
    "d={}\n",
    "d['Apple']=50\n",
    "d['Orange']=20\n",
    "print(d['Apple'])\n",
    "print(d.get('Apple'))\n",
    "print(d.get('Grapes',0)) # DEFAULTING"
   ]
  },
  {
   "cell_type": "code",
   "execution_count": 61,
   "metadata": {},
   "outputs": [
    {
     "name": "stdout",
     "output_type": "stream",
     "text": [
      "50\n",
      "0\n"
     ]
    }
   ],
   "source": [
    "from collections import defaultdict\n",
    "d = defaultdict(int) ## inside parenthesis we say what should be the default value.\n",
    "d['Apple']=50\n",
    "d['Orange']=20\n",
    "print(d['Apple'])\n",
    "print(d['Grapes']) ##→ This gives Will not give error"
   ]
  },
  {
   "cell_type": "markdown",
   "metadata": {},
   "source": [
    "# 11.0 Collections - Company logo"
   ]
  },
  {
   "cell_type": "code",
   "execution_count": 64,
   "metadata": {},
   "outputs": [
    {
     "data": {
      "text/plain": [
       "{'a', 'b', 'c', 'd'}"
      ]
     },
     "execution_count": 64,
     "metadata": {},
     "output_type": "execute_result"
    }
   ],
   "source": [
    "set(\"acbd\")"
   ]
  },
  {
   "cell_type": "code",
   "execution_count": null,
   "metadata": {},
   "outputs": [],
   "source": [
    "#!/bin/python3\n",
    "\n",
    "import math\n",
    "import os\n",
    "import random\n",
    "import re\n",
    "import sys\n",
    "from collections import Counter\n",
    "\n",
    "\n",
    "if __name__ == '__main__':\n",
    "    s = str(input())\n",
    "\n",
    "if len(set(s))>=3:\n",
    "    s = sorted(s)\n",
    "    cont = Counter(s).most_common(3)\n",
    "    [print(f\"{i[0]} {i[1]}\") for i in cont]\n",
    "else:\n",
    "    pass"
   ]
  },
  {
   "cell_type": "code",
   "execution_count": 65,
   "metadata": {},
   "outputs": [
    {
     "data": {
      "text/plain": [
       "2"
      ]
     },
     "execution_count": 65,
     "metadata": {},
     "output_type": "execute_result"
    }
   ],
   "source": [
    "li = [2,2, 4]\n",
    "li.count(2)"
   ]
  },
  {
   "cell_type": "code",
   "execution_count": 73,
   "metadata": {},
   "outputs": [
    {
     "data": {
      "text/plain": [
       "31"
      ]
     },
     "execution_count": 73,
     "metadata": {},
     "output_type": "execute_result"
    }
   ],
   "source": [
    "import datetime\n",
    "\n",
    "datetime_object = datetime.datetime.strptime(\"2015-01-25\", '%Y-%m-%d')\n",
    "\n",
    "datetime_object2 = datetime.datetime.strptime(\"2015-02-25\", '%Y-%m-%d')\n",
    "\n",
    "(datetime_object2 - datetime_object).days"
   ]
  },
  {
   "cell_type": "code",
   "execution_count": 75,
   "metadata": {},
   "outputs": [
    {
     "data": {
      "text/plain": [
       "datetime.datetime(2014, 10, 27, 0, 0)"
      ]
     },
     "execution_count": 75,
     "metadata": {},
     "output_type": "execute_result"
    }
   ],
   "source": [
    "datetime_object - datetime.timedelta(days=90)"
   ]
  },
  {
   "cell_type": "code",
   "execution_count": null,
   "metadata": {},
   "outputs": [],
   "source": [
    "li = "
   ]
  },
  {
   "cell_type": "code",
   "execution_count": null,
   "metadata": {},
   "outputs": [],
   "source": [
    "#!/bin/python3\n",
    "\n",
    "import math\n",
    "import os\n",
    "import random\n",
    "import re\n",
    "import sys\n",
    "\n",
    "\n",
    "\n",
    "#\n",
    "# Complete the 'fizzBuzz' function below.\n",
    "#\n",
    "# The function accepts INTEGER n as parameter.\n",
    "#\n",
    "\n",
    "def fizzBuzz(n):\n",
    "    for i in range(1, n+1):\n",
    "        print(i)\n",
    "    else:\n",
    "        pass\n",
    "\n",
    "if __name__ == '__main__':\n",
    "    n = int(input().strip())\n",
    "\n",
    "    fizzBuzz(n)"
   ]
  },
  {
   "cell_type": "markdown",
   "metadata": {},
   "source": [
    "# 12. Exceptions"
   ]
  },
  {
   "cell_type": "code",
   "execution_count": 2,
   "metadata": {},
   "outputs": [
    {
     "name": "stdout",
     "output_type": "stream",
     "text": [
      "0\n",
      "Error Code: invalid literal for int() with base 10: 'e'\n"
     ]
    }
   ],
   "source": [
    "T = int(input())\n",
    "\n",
    "for _ in range(0, T):\n",
    "    input_a, input_b = list(input().split())\n",
    "    try:\n",
    "        print(int(input_a)//int(input_b))\n",
    "    except (ValueError, ZeroDivisionError) as e:\n",
    "        print(f\"Error Code: {e}\")"
   ]
  },
  {
   "cell_type": "markdown",
   "metadata": {},
   "source": [
    "# 13. Introduction to Sets"
   ]
  },
  {
   "cell_type": "code",
   "execution_count": null,
   "metadata": {},
   "outputs": [],
   "source": [
    "def average(array):\n",
    "    # your code goes here\n",
    "    array_set = set(array)\n",
    "    return round(sum(array_set)/len(array_set),3)\n",
    "\n",
    "if __name__ == '__main__':\n",
    "    n = int(input())\n",
    "    arr = list(map(int, input().split()))\n",
    "    result = average(arr)\n",
    "    print(result)"
   ]
  },
  {
   "cell_type": "markdown",
   "metadata": {},
   "source": [
    "# 14.0 Set operations"
   ]
  },
  {
   "cell_type": "code",
   "execution_count": null,
   "metadata": {},
   "outputs": [],
   "source": [
    "# Enter your code here. Read input from STDIN. Print output to STDOUT\n",
    "M = int(input())\n",
    "M1 = set(map(int, input().split()))\n",
    "N = int(input())\n",
    "N1 = set(map(int, input().split()))\n",
    "\n",
    "diff = []\n",
    "[diff.append(i) for i in M1.difference(N1).union(N1.difference(M1))]\n",
    "\n",
    "\n",
    "\n",
    "[print(i) for i in sorted(diff)]"
   ]
  },
  {
   "cell_type": "markdown",
   "metadata": {},
   "source": [
    "# 15.0 Design floor mat"
   ]
  },
  {
   "cell_type": "code",
   "execution_count": 3,
   "metadata": {},
   "outputs": [
    {
     "name": "stdout",
     "output_type": "stream",
     "text": [
      "-------------.|.--------------\n",
      "----------.|..|..|.-----------\n",
      "-------.|..|..|..|..|.--------\n",
      "----.|..|..|..|..|..|..|.-----\n",
      "-.|..|..|..|..|..|..|..|..|.--\n",
      "-----------WELCOME------------\n",
      "-.|..|..|..|..|..|..|..|..|.--\n",
      "----.|..|..|..|..|..|..|.-----\n",
      "-------.|..|..|..|..|.--------\n",
      "----------.|..|..|.-----------\n",
      "-------------.|.--------------\n"
     ]
    }
   ],
   "source": [
    "# Enter your code here. Read input from STDIN. Print output to STDOUT\n",
    "\n",
    "N, M = list(map(int, input().split()))\n",
    "\n",
    "\n",
    "for i in range(1, N, 2):\n",
    "    print((\".|.\" * i).center(M, \"-\"))\n",
    "print(\"WELCOME\".center(M,\"-\"))\n",
    "for i in reversed(range(1, N, 2)):\n",
    "    print((\".|.\" * i).center(M, \"-\"))\n"
   ]
  },
  {
   "cell_type": "code",
   "execution_count": 5,
   "metadata": {},
   "outputs": [
    {
     "name": "stdout",
     "output_type": "stream",
     "text": [
      "0 B\n",
      "1 A\n",
      "2 N\n",
      "3 A\n",
      "4 N\n",
      "5 A\n"
     ]
    }
   ],
   "source": [
    "for i, c in enumerate(\"BANANA\"):\n",
    "    print(i, c)"
   ]
  },
  {
   "cell_type": "markdown",
   "metadata": {},
   "source": [
    "# 16.0 re.split()"
   ]
  },
  {
   "cell_type": "code",
   "execution_count": 21,
   "metadata": {},
   "outputs": [
    {
     "data": {
      "text/plain": [
       "['100', '000', '000', '000']"
      ]
     },
     "execution_count": 21,
     "metadata": {},
     "output_type": "execute_result"
    }
   ],
   "source": [
    "regex_pattern = r\"[\\,|\\.]\"\t# Do not delete 'r'.\n",
    "\n",
    "inp = \"100,000,000.000\"\n",
    "\n",
    "import re\n",
    "re.split(regex_pattern, inp)"
   ]
  },
  {
   "cell_type": "code",
   "execution_count": 87,
   "metadata": {},
   "outputs": [
    {
     "data": {
      "text/plain": [
       "'1'"
      ]
     },
     "execution_count": 87,
     "metadata": {},
     "output_type": "execute_result"
    }
   ],
   "source": [
    "line = \"12345678910111213141516171loooo820212223\"\n",
    "re.search(r\"(\\d)\\1\", line).groups()[0]\n"
   ]
  },
  {
   "cell_type": "markdown",
   "metadata": {},
   "source": [
    "# 17.0 Re.Search and groups"
   ]
  },
  {
   "cell_type": "code",
   "execution_count": null,
   "metadata": {},
   "outputs": [],
   "source": [
    "import re\n",
    "\n",
    "line = input()\n",
    "\n",
    "line_match = re.search(r\"([0-9A-Za-z])\\1\", line)\n",
    "if line_match != None:\n",
    "    print(line_match.groups(0)[0])\n",
    "else:\n",
    "    print(-1)\n"
   ]
  },
  {
   "cell_type": "markdown",
   "metadata": {},
   "source": [
    "# 18.0 Set.add"
   ]
  },
  {
   "cell_type": "code",
   "execution_count": null,
   "metadata": {},
   "outputs": [],
   "source": [
    "# Enter your code here. Read input from STDIN. Print output to STDOUT\n",
    "numberscountries = int(input())\n",
    "names = set()\n",
    "# names = \" \".join(input() for i in range(numberscountries))\n",
    "[names.add(input()) for i in range(numberscountries)]\n",
    "\n",
    "print(len(names))"
   ]
  },
  {
   "cell_type": "markdown",
   "metadata": {},
   "source": [
    "# 19.0 Union"
   ]
  },
  {
   "cell_type": "code",
   "execution_count": 4,
   "metadata": {},
   "outputs": [
    {
     "name": "stdout",
     "output_type": "stream",
     "text": [
      "{'Hacker', 'Fom'}\n"
     ]
    }
   ],
   "source": [
    "print(set([\"Hacker\",\"Fom\"]))"
   ]
  },
  {
   "cell_type": "code",
   "execution_count": null,
   "metadata": {},
   "outputs": [],
   "source": [
    "# Enter your code here. Read input from STDIN. Print output to STDOUT\n",
    "n = int(input())\n",
    "students_n = set(map(int,input().split()))\n",
    "b = int(input())\n",
    "students_b = set(map(int,input().split()))\n",
    "\n",
    "\n",
    "output = len(students_n.union(students_b))\n",
    "\n",
    "print(output)"
   ]
  },
  {
   "cell_type": "markdown",
   "metadata": {},
   "source": [
    "# 20.0 Intersection"
   ]
  },
  {
   "cell_type": "code",
   "execution_count": null,
   "metadata": {},
   "outputs": [],
   "source": [
    "n = int(input())\n",
    "students_n = set(map(int, input().split()))\n",
    "b = int(input())\n",
    "students_b = set(map(int, input().split()))\n",
    "\n",
    "students_intersec = len(students_n & students_b)\n",
    "\n",
    "print(students_intersec)"
   ]
  },
  {
   "cell_type": "markdown",
   "metadata": {},
   "source": [
    "# 21.1 Difference"
   ]
  },
  {
   "cell_type": "code",
   "execution_count": null,
   "metadata": {},
   "outputs": [],
   "source": [
    "# Enter your code here. Read input from STDIN. Print output to STDOUT\n",
    "students_english = int(input()) \n",
    "students_english_rolls = set(map(int, input().split()))\n",
    "students_french = int(input())\n",
    "students_french_rolls = set(map(int, input().split()))\n",
    "\n",
    "print(len(students_english_rolls - students_french_rolls))"
   ]
  },
  {
   "cell_type": "markdown",
   "metadata": {},
   "source": [
    "# 22.0 Symmetric difference"
   ]
  },
  {
   "cell_type": "code",
   "execution_count": null,
   "metadata": {},
   "outputs": [],
   "source": [
    "# Enter your code here. Read input from STDIN. Print output to STDOUT\n",
    "students_english = int(input()) \n",
    "students_english_rolls = set(map(int, input().split()))\n",
    "students_french = int(input())\n",
    "students_french_rolls = set(map(int, input().split()))\n",
    "\n",
    "print(len(students_english_rolls - students_french_rolls))"
   ]
  },
  {
   "cell_type": "code",
   "execution_count": 16,
   "metadata": {},
   "outputs": [],
   "source": [
    "A = {1,2,3}\n",
    "B = {1,3}\n",
    "C = {1,2}\n",
    "A.intersection_update(C)"
   ]
  },
  {
   "cell_type": "code",
   "execution_count": 21,
   "metadata": {},
   "outputs": [
    {
     "name": "stdout",
     "output_type": "stream",
     "text": [
      "you called sampleFunc(sample arg)\n",
      "you called sampleFunc(sample arg)\n"
     ]
    }
   ],
   "source": []
  },
  {
   "cell_type": "code",
   "execution_count": 17,
   "metadata": {},
   "outputs": [
    {
     "data": {
      "text/plain": [
       "True"
      ]
     },
     "execution_count": 17,
     "metadata": {},
     "output_type": "execute_result"
    }
   ],
   "source": [
    "hasattr(A,\"intersection_update\")"
   ]
  },
  {
   "cell_type": "code",
   "execution_count": 14,
   "metadata": {},
   "outputs": [
    {
     "name": "stdout",
     "output_type": "stream",
     "text": [
      "{1, 2}\n"
     ]
    }
   ],
   "source": [
    "getattr(A,\"intersection_update\")(C)\n",
    "print(A)"
   ]
  },
  {
   "cell_type": "markdown",
   "metadata": {},
   "source": [
    "# 23.0 Set Muttations"
   ]
  },
  {
   "cell_type": "code",
   "execution_count": null,
   "metadata": {},
   "outputs": [],
   "source": [
    "# Enter your code here. Read input from STDIN. Print output to STDOUT\n",
    "\n",
    "n_elements_A = int(input())\n",
    "A = set(map(int, input().split()))\n",
    "N = int(input())\n",
    "for _ in range(0, N):\n",
    "    operation = input().split()\n",
    "    operation_set = set(map(int, input().split()))\n",
    "\n",
    "    getattr(A, operation[0])(operation_set)\n",
    "\n",
    "print(sum(A))\n"
   ]
  },
  {
   "cell_type": "code",
   "execution_count": 22,
   "metadata": {},
   "outputs": [
    {
     "name": "stdout",
     "output_type": "stream",
     "text": [
      "you called sampleFunc(sample arg)\n",
      "you called sampleFunc(sample arg)\n"
     ]
    }
   ],
   "source": [
    "class A:\n",
    "    def __init__(self):\n",
    "        pass\n",
    "\n",
    "    def sampleFunc(self, arg):\n",
    "        print('you called sampleFunc({})'.format(arg))\n",
    "\n",
    "m = globals()['A']()\n",
    "func = getattr(m, 'sampleFunc')\n",
    "func('sample arg')\n",
    "\n",
    "# Sample, all on one line\n",
    "getattr(globals()['A'](), 'sampleFunc')('sample arg')"
   ]
  },
  {
   "cell_type": "markdown",
   "metadata": {},
   "source": [
    "# 24.0 Sets - captain Room"
   ]
  },
  {
   "cell_type": "code",
   "execution_count": null,
   "metadata": {},
   "outputs": [],
   "source": [
    "# Enter your code here. Read input from STDIN. Print output to STDOUT\n",
    "\n",
    "size_groups = int(input())\n",
    "room_number_list = list(map(int, input().split()))\n",
    "\n",
    "from collections import Counter\n",
    "\n",
    "print(Counter(room_number_list).most_common()[-1][0])"
   ]
  },
  {
   "cell_type": "code",
   "execution_count": null,
   "metadata": {},
   "outputs": [],
   "source": [
    "from collections import Counter\n",
    "\n",
    "size_groups = int(input())\n",
    "room_number_list = Counter(map(int, input().split()))\n",
    "\n",
    "\n",
    "[print(i) for i in set(room_number_list.elements()) if room_number_list[i]==1]\n"
   ]
  },
  {
   "cell_type": "code",
   "execution_count": 70,
   "metadata": {},
   "outputs": [
    {
     "data": {
      "text/plain": [
       "[1, 2, 4]"
      ]
     },
     "execution_count": 70,
     "metadata": {},
     "output_type": "execute_result"
    }
   ],
   "source": [
    "li = { 4, 4, 4, 4, 4, 1, 2}\n",
    "from collections import Counter\n",
    "cont = Counter(li)\n",
    "sorted(cont)"
   ]
  },
  {
   "cell_type": "code",
   "execution_count": 72,
   "metadata": {},
   "outputs": [
    {
     "data": {
      "text/plain": [
       "[(2, 1), (4, 1), (1, -13)]"
      ]
     },
     "execution_count": 72,
     "metadata": {},
     "output_type": "execute_result"
    }
   ],
   "source": [
    "cont.subtract(Counter([1, 1, 1, 1, 1, 1, 1]))\n",
    "\n",
    "cont.most_common()"
   ]
  },
  {
   "cell_type": "markdown",
   "metadata": {},
   "source": [
    "# 25.0 Set check subset"
   ]
  },
  {
   "cell_type": "code",
   "execution_count": null,
   "metadata": {},
   "outputs": [],
   "source": [
    "# Enter your code here. Read input from STDIN. Print output to STDOUT\n",
    "test_cases = int(input())\n",
    "for i in range(0, test_cases):\n",
    "    n_elements_A = int(input())\n",
    "    A = set(map(int, input().split()))\n",
    "    n_elements_B = int(input())\n",
    "    B = set(map(int, input().split()))\n",
    "    print(len(A & B)==len(A))"
   ]
  },
  {
   "cell_type": "markdown",
   "metadata": {},
   "source": [
    "# 26.0 SuperSet"
   ]
  },
  {
   "cell_type": "code",
   "execution_count": null,
   "metadata": {},
   "outputs": [],
   "source": [
    "# Enter your code here. Read input from STDIN. Print output to STDOUT\n",
    "set_A = set(map(int, input().split()))\n",
    "number_other_sets = int(input())\n",
    "bools = []\n",
    "for _ in range(0, number_other_sets):\n",
    "    set_B = set(map(int, input().split()))\n",
    "    #bools.append(len(set_B.difference(set_A))==0)\n",
    "    bools.append(set_B.issubset(set_A))\n",
    "    bools.append(set_A.issuperset(set_B))\n",
    "\n",
    "print(all(bools))"
   ]
  },
  {
   "cell_type": "markdown",
   "metadata": {},
   "source": [
    "# 27.0 Built in - athlete sort"
   ]
  },
  {
   "cell_type": "code",
   "execution_count": null,
   "metadata": {},
   "outputs": [],
   "source": [
    "# N, M = list(map(int, input().split()))\n",
    "# atributes = []\n",
    "# for _ in range(0, N):\n",
    "#     atributes.append(list(map(int, input().split())))\n",
    "# K = int(input())\n",
    "# atributes.sort(key = lambda x: x[K], reverse=False)\n",
    "# [print(\" \".join(map(str, i))) for i in atributes]\n",
    "\n",
    "N, M = list(map(int, input().split()))\n",
    "atributes = [list(map(int, input().split())) for _ in range(N)]\n",
    "K = int(input())\n",
    "atributes.sort(key=lambda x: x[K], reverse=False)\n",
    "[print(\" \".join(map(str, i))) for i in atributes]"
   ]
  },
  {
   "cell_type": "markdown",
   "metadata": {},
   "source": [
    "# 28.0 Itertools product"
   ]
  },
  {
   "cell_type": "code",
   "execution_count": 4,
   "metadata": {},
   "outputs": [
    {
     "name": "stdout",
     "output_type": "stream",
     "text": [
      "(5, 2) (5, 1) (2, 2) (2, 1) (5, 2) (5, 1) (6, 2) (6, 1)\n"
     ]
    }
   ],
   "source": [
    "# Enter your code here. Read input from STDIN. Print output to STDOUT\n",
    "from itertools import product\n",
    "\n",
    "A = list(map(int, input().split()))\n",
    "B = list(map(int, input().split()))\n",
    "\n",
    "print(\" \".join(list(map(str, product(A, B)))))"
   ]
  },
  {
   "cell_type": "markdown",
   "metadata": {},
   "source": [
    "# 29.0 Itertools permutation"
   ]
  },
  {
   "cell_type": "code",
   "execution_count": 2,
   "metadata": {},
   "outputs": [
    {
     "name": "stdout",
     "output_type": "stream",
     "text": [
      "dfgi\n",
      "dfgi\n",
      "dfgn\n",
      "dfgs\n",
      "dfgy\n",
      "dfig\n",
      "dfig\n",
      "dfii\n",
      "dfii\n",
      "dfin\n",
      "dfin\n",
      "dfis\n",
      "dfis\n",
      "dfiy\n",
      "dfiy\n",
      "dfng\n",
      "dfni\n",
      "dfni\n",
      "dfns\n",
      "dfny\n",
      "dfsg\n",
      "dfsi\n",
      "dfsi\n",
      "dfsn\n",
      "dfsy\n",
      "dfyg\n",
      "dfyi\n",
      "dfyi\n",
      "dfyn\n",
      "dfys\n",
      "dgfi\n",
      "dgfi\n",
      "dgfn\n",
      "dgfs\n",
      "dgfy\n",
      "dgif\n",
      "dgif\n",
      "dgii\n",
      "dgii\n",
      "dgin\n",
      "dgin\n",
      "dgis\n",
      "dgis\n",
      "dgiy\n",
      "dgiy\n",
      "dgnf\n",
      "dgni\n",
      "dgni\n",
      "dgns\n",
      "dgny\n",
      "dgsf\n",
      "dgsi\n",
      "dgsi\n",
      "dgsn\n",
      "dgsy\n",
      "dgyf\n",
      "dgyi\n",
      "dgyi\n",
      "dgyn\n",
      "dgys\n",
      "difg\n",
      "difg\n",
      "difi\n",
      "difi\n",
      "difn\n",
      "difn\n",
      "difs\n",
      "difs\n",
      "dify\n",
      "dify\n",
      "digf\n",
      "digf\n",
      "digi\n",
      "digi\n",
      "dign\n",
      "dign\n",
      "digs\n",
      "digs\n",
      "digy\n",
      "digy\n",
      "diif\n",
      "diif\n",
      "diig\n",
      "diig\n",
      "diin\n",
      "diin\n",
      "diis\n",
      "diis\n",
      "diiy\n",
      "diiy\n",
      "dinf\n",
      "dinf\n",
      "ding\n",
      "ding\n",
      "dini\n",
      "dini\n",
      "dins\n",
      "dins\n",
      "diny\n",
      "diny\n",
      "disf\n",
      "disf\n",
      "disg\n",
      "disg\n",
      "disi\n",
      "disi\n",
      "disn\n",
      "disn\n",
      "disy\n",
      "disy\n",
      "diyf\n",
      "diyf\n",
      "diyg\n",
      "diyg\n",
      "diyi\n",
      "diyi\n",
      "diyn\n",
      "diyn\n",
      "diys\n",
      "diys\n",
      "dnfg\n",
      "dnfi\n",
      "dnfi\n",
      "dnfs\n",
      "dnfy\n",
      "dngf\n",
      "dngi\n",
      "dngi\n",
      "dngs\n",
      "dngy\n",
      "dnif\n",
      "dnif\n",
      "dnig\n",
      "dnig\n",
      "dnii\n",
      "dnii\n",
      "dnis\n",
      "dnis\n",
      "dniy\n",
      "dniy\n",
      "dnsf\n",
      "dnsg\n",
      "dnsi\n",
      "dnsi\n",
      "dnsy\n",
      "dnyf\n",
      "dnyg\n",
      "dnyi\n",
      "dnyi\n",
      "dnys\n",
      "dsfg\n",
      "dsfi\n",
      "dsfi\n",
      "dsfn\n",
      "dsfy\n",
      "dsgf\n",
      "dsgi\n",
      "dsgi\n",
      "dsgn\n",
      "dsgy\n",
      "dsif\n",
      "dsif\n",
      "dsig\n",
      "dsig\n",
      "dsii\n",
      "dsii\n",
      "dsin\n",
      "dsin\n",
      "dsiy\n",
      "dsiy\n",
      "dsnf\n",
      "dsng\n",
      "dsni\n",
      "dsni\n",
      "dsny\n",
      "dsyf\n",
      "dsyg\n",
      "dsyi\n",
      "dsyi\n",
      "dsyn\n",
      "dyfg\n",
      "dyfi\n",
      "dyfi\n",
      "dyfn\n",
      "dyfs\n",
      "dygf\n",
      "dygi\n",
      "dygi\n",
      "dygn\n",
      "dygs\n",
      "dyif\n",
      "dyif\n",
      "dyig\n",
      "dyig\n",
      "dyii\n",
      "dyii\n",
      "dyin\n",
      "dyin\n",
      "dyis\n",
      "dyis\n",
      "dynf\n",
      "dyng\n",
      "dyni\n",
      "dyni\n",
      "dyns\n",
      "dysf\n",
      "dysg\n",
      "dysi\n",
      "dysi\n",
      "dysn\n",
      "fdgi\n",
      "fdgi\n",
      "fdgn\n",
      "fdgs\n",
      "fdgy\n",
      "fdig\n",
      "fdig\n",
      "fdii\n",
      "fdii\n",
      "fdin\n",
      "fdin\n",
      "fdis\n",
      "fdis\n",
      "fdiy\n",
      "fdiy\n",
      "fdng\n",
      "fdni\n",
      "fdni\n",
      "fdns\n",
      "fdny\n",
      "fdsg\n",
      "fdsi\n",
      "fdsi\n",
      "fdsn\n",
      "fdsy\n",
      "fdyg\n",
      "fdyi\n",
      "fdyi\n",
      "fdyn\n",
      "fdys\n",
      "fgdi\n",
      "fgdi\n",
      "fgdn\n",
      "fgds\n",
      "fgdy\n",
      "fgid\n",
      "fgid\n",
      "fgii\n",
      "fgii\n",
      "fgin\n",
      "fgin\n",
      "fgis\n",
      "fgis\n",
      "fgiy\n",
      "fgiy\n",
      "fgnd\n",
      "fgni\n",
      "fgni\n",
      "fgns\n",
      "fgny\n",
      "fgsd\n",
      "fgsi\n",
      "fgsi\n",
      "fgsn\n",
      "fgsy\n",
      "fgyd\n",
      "fgyi\n",
      "fgyi\n",
      "fgyn\n",
      "fgys\n",
      "fidg\n",
      "fidg\n",
      "fidi\n",
      "fidi\n",
      "fidn\n",
      "fidn\n",
      "fids\n",
      "fids\n",
      "fidy\n",
      "fidy\n",
      "figd\n",
      "figd\n",
      "figi\n",
      "figi\n",
      "fign\n",
      "fign\n",
      "figs\n",
      "figs\n",
      "figy\n",
      "figy\n",
      "fiid\n",
      "fiid\n",
      "fiig\n",
      "fiig\n",
      "fiin\n",
      "fiin\n",
      "fiis\n",
      "fiis\n",
      "fiiy\n",
      "fiiy\n",
      "find\n",
      "find\n",
      "fing\n",
      "fing\n",
      "fini\n",
      "fini\n",
      "fins\n",
      "fins\n",
      "finy\n",
      "finy\n",
      "fisd\n",
      "fisd\n",
      "fisg\n",
      "fisg\n",
      "fisi\n",
      "fisi\n",
      "fisn\n",
      "fisn\n",
      "fisy\n",
      "fisy\n",
      "fiyd\n",
      "fiyd\n",
      "fiyg\n",
      "fiyg\n",
      "fiyi\n",
      "fiyi\n",
      "fiyn\n",
      "fiyn\n",
      "fiys\n",
      "fiys\n",
      "fndg\n",
      "fndi\n",
      "fndi\n",
      "fnds\n",
      "fndy\n",
      "fngd\n",
      "fngi\n",
      "fngi\n",
      "fngs\n",
      "fngy\n",
      "fnid\n",
      "fnid\n",
      "fnig\n",
      "fnig\n",
      "fnii\n",
      "fnii\n",
      "fnis\n",
      "fnis\n",
      "fniy\n",
      "fniy\n",
      "fnsd\n",
      "fnsg\n",
      "fnsi\n",
      "fnsi\n",
      "fnsy\n",
      "fnyd\n",
      "fnyg\n",
      "fnyi\n",
      "fnyi\n",
      "fnys\n",
      "fsdg\n",
      "fsdi\n",
      "fsdi\n",
      "fsdn\n",
      "fsdy\n",
      "fsgd\n",
      "fsgi\n",
      "fsgi\n",
      "fsgn\n",
      "fsgy\n",
      "fsid\n",
      "fsid\n",
      "fsig\n",
      "fsig\n",
      "fsii\n",
      "fsii\n",
      "fsin\n",
      "fsin\n",
      "fsiy\n",
      "fsiy\n",
      "fsnd\n",
      "fsng\n",
      "fsni\n",
      "fsni\n",
      "fsny\n",
      "fsyd\n",
      "fsyg\n",
      "fsyi\n",
      "fsyi\n",
      "fsyn\n",
      "fydg\n",
      "fydi\n",
      "fydi\n",
      "fydn\n",
      "fyds\n",
      "fygd\n",
      "fygi\n",
      "fygi\n",
      "fygn\n",
      "fygs\n",
      "fyid\n",
      "fyid\n",
      "fyig\n",
      "fyig\n",
      "fyii\n",
      "fyii\n",
      "fyin\n",
      "fyin\n",
      "fyis\n",
      "fyis\n",
      "fynd\n",
      "fyng\n",
      "fyni\n",
      "fyni\n",
      "fyns\n",
      "fysd\n",
      "fysg\n",
      "fysi\n",
      "fysi\n",
      "fysn\n",
      "gdfi\n",
      "gdfi\n",
      "gdfn\n",
      "gdfs\n",
      "gdfy\n",
      "gdif\n",
      "gdif\n",
      "gdii\n",
      "gdii\n",
      "gdin\n",
      "gdin\n",
      "gdis\n",
      "gdis\n",
      "gdiy\n",
      "gdiy\n",
      "gdnf\n",
      "gdni\n",
      "gdni\n",
      "gdns\n",
      "gdny\n",
      "gdsf\n",
      "gdsi\n",
      "gdsi\n",
      "gdsn\n",
      "gdsy\n",
      "gdyf\n",
      "gdyi\n",
      "gdyi\n",
      "gdyn\n",
      "gdys\n",
      "gfdi\n",
      "gfdi\n",
      "gfdn\n",
      "gfds\n",
      "gfdy\n",
      "gfid\n",
      "gfid\n",
      "gfii\n",
      "gfii\n",
      "gfin\n",
      "gfin\n",
      "gfis\n",
      "gfis\n",
      "gfiy\n",
      "gfiy\n",
      "gfnd\n",
      "gfni\n",
      "gfni\n",
      "gfns\n",
      "gfny\n",
      "gfsd\n",
      "gfsi\n",
      "gfsi\n",
      "gfsn\n",
      "gfsy\n",
      "gfyd\n",
      "gfyi\n",
      "gfyi\n",
      "gfyn\n",
      "gfys\n",
      "gidf\n",
      "gidf\n",
      "gidi\n",
      "gidi\n",
      "gidn\n",
      "gidn\n",
      "gids\n",
      "gids\n",
      "gidy\n",
      "gidy\n",
      "gifd\n",
      "gifd\n",
      "gifi\n",
      "gifi\n",
      "gifn\n",
      "gifn\n",
      "gifs\n",
      "gifs\n",
      "gify\n",
      "gify\n",
      "giid\n",
      "giid\n",
      "giif\n",
      "giif\n",
      "giin\n",
      "giin\n",
      "giis\n",
      "giis\n",
      "giiy\n",
      "giiy\n",
      "gind\n",
      "gind\n",
      "ginf\n",
      "ginf\n",
      "gini\n",
      "gini\n",
      "gins\n",
      "gins\n",
      "giny\n",
      "giny\n",
      "gisd\n",
      "gisd\n",
      "gisf\n",
      "gisf\n",
      "gisi\n",
      "gisi\n",
      "gisn\n",
      "gisn\n",
      "gisy\n",
      "gisy\n",
      "giyd\n",
      "giyd\n",
      "giyf\n",
      "giyf\n",
      "giyi\n",
      "giyi\n",
      "giyn\n",
      "giyn\n",
      "giys\n",
      "giys\n",
      "gndf\n",
      "gndi\n",
      "gndi\n",
      "gnds\n",
      "gndy\n",
      "gnfd\n",
      "gnfi\n",
      "gnfi\n",
      "gnfs\n",
      "gnfy\n",
      "gnid\n",
      "gnid\n",
      "gnif\n",
      "gnif\n",
      "gnii\n",
      "gnii\n",
      "gnis\n",
      "gnis\n",
      "gniy\n",
      "gniy\n",
      "gnsd\n",
      "gnsf\n",
      "gnsi\n",
      "gnsi\n",
      "gnsy\n",
      "gnyd\n",
      "gnyf\n",
      "gnyi\n",
      "gnyi\n",
      "gnys\n",
      "gsdf\n",
      "gsdi\n",
      "gsdi\n",
      "gsdn\n",
      "gsdy\n",
      "gsfd\n",
      "gsfi\n",
      "gsfi\n",
      "gsfn\n",
      "gsfy\n",
      "gsid\n",
      "gsid\n",
      "gsif\n",
      "gsif\n",
      "gsii\n",
      "gsii\n",
      "gsin\n",
      "gsin\n",
      "gsiy\n",
      "gsiy\n",
      "gsnd\n",
      "gsnf\n",
      "gsni\n",
      "gsni\n",
      "gsny\n",
      "gsyd\n",
      "gsyf\n",
      "gsyi\n",
      "gsyi\n",
      "gsyn\n",
      "gydf\n",
      "gydi\n",
      "gydi\n",
      "gydn\n",
      "gyds\n",
      "gyfd\n",
      "gyfi\n",
      "gyfi\n",
      "gyfn\n",
      "gyfs\n",
      "gyid\n",
      "gyid\n",
      "gyif\n",
      "gyif\n",
      "gyii\n",
      "gyii\n",
      "gyin\n",
      "gyin\n",
      "gyis\n",
      "gyis\n",
      "gynd\n",
      "gynf\n",
      "gyni\n",
      "gyni\n",
      "gyns\n",
      "gysd\n",
      "gysf\n",
      "gysi\n",
      "gysi\n",
      "gysn\n",
      "idfg\n",
      "idfg\n",
      "idfi\n",
      "idfi\n",
      "idfn\n",
      "idfn\n",
      "idfs\n",
      "idfs\n",
      "idfy\n",
      "idfy\n",
      "idgf\n",
      "idgf\n",
      "idgi\n",
      "idgi\n",
      "idgn\n",
      "idgn\n",
      "idgs\n",
      "idgs\n",
      "idgy\n",
      "idgy\n",
      "idif\n",
      "idif\n",
      "idig\n",
      "idig\n",
      "idin\n",
      "idin\n",
      "idis\n",
      "idis\n",
      "idiy\n",
      "idiy\n",
      "idnf\n",
      "idnf\n",
      "idng\n",
      "idng\n",
      "idni\n",
      "idni\n",
      "idns\n",
      "idns\n",
      "idny\n",
      "idny\n",
      "idsf\n",
      "idsf\n",
      "idsg\n",
      "idsg\n",
      "idsi\n",
      "idsi\n",
      "idsn\n",
      "idsn\n",
      "idsy\n",
      "idsy\n",
      "idyf\n",
      "idyf\n",
      "idyg\n",
      "idyg\n",
      "idyi\n",
      "idyi\n",
      "idyn\n",
      "idyn\n",
      "idys\n",
      "idys\n",
      "ifdg\n",
      "ifdg\n",
      "ifdi\n",
      "ifdi\n",
      "ifdn\n",
      "ifdn\n",
      "ifds\n",
      "ifds\n",
      "ifdy\n",
      "ifdy\n",
      "ifgd\n",
      "ifgd\n",
      "ifgi\n",
      "ifgi\n",
      "ifgn\n",
      "ifgn\n",
      "ifgs\n",
      "ifgs\n",
      "ifgy\n",
      "ifgy\n",
      "ifid\n",
      "ifid\n",
      "ifig\n",
      "ifig\n",
      "ifin\n",
      "ifin\n",
      "ifis\n",
      "ifis\n",
      "ifiy\n",
      "ifiy\n",
      "ifnd\n",
      "ifnd\n",
      "ifng\n",
      "ifng\n",
      "ifni\n",
      "ifni\n",
      "ifns\n",
      "ifns\n",
      "ifny\n",
      "ifny\n",
      "ifsd\n",
      "ifsd\n",
      "ifsg\n",
      "ifsg\n",
      "ifsi\n",
      "ifsi\n",
      "ifsn\n",
      "ifsn\n",
      "ifsy\n",
      "ifsy\n",
      "ifyd\n",
      "ifyd\n",
      "ifyg\n",
      "ifyg\n",
      "ifyi\n",
      "ifyi\n",
      "ifyn\n",
      "ifyn\n",
      "ifys\n",
      "ifys\n",
      "igdf\n",
      "igdf\n",
      "igdi\n",
      "igdi\n",
      "igdn\n",
      "igdn\n",
      "igds\n",
      "igds\n",
      "igdy\n",
      "igdy\n",
      "igfd\n",
      "igfd\n",
      "igfi\n",
      "igfi\n",
      "igfn\n",
      "igfn\n",
      "igfs\n",
      "igfs\n",
      "igfy\n",
      "igfy\n",
      "igid\n",
      "igid\n",
      "igif\n",
      "igif\n",
      "igin\n",
      "igin\n",
      "igis\n",
      "igis\n",
      "igiy\n",
      "igiy\n",
      "ignd\n",
      "ignd\n",
      "ignf\n",
      "ignf\n",
      "igni\n",
      "igni\n",
      "igns\n",
      "igns\n",
      "igny\n",
      "igny\n",
      "igsd\n",
      "igsd\n",
      "igsf\n",
      "igsf\n",
      "igsi\n",
      "igsi\n",
      "igsn\n",
      "igsn\n",
      "igsy\n",
      "igsy\n",
      "igyd\n",
      "igyd\n",
      "igyf\n",
      "igyf\n",
      "igyi\n",
      "igyi\n",
      "igyn\n",
      "igyn\n",
      "igys\n",
      "igys\n",
      "iidf\n",
      "iidf\n",
      "iidg\n",
      "iidg\n",
      "iidn\n",
      "iidn\n",
      "iids\n",
      "iids\n",
      "iidy\n",
      "iidy\n",
      "iifd\n",
      "iifd\n",
      "iifg\n",
      "iifg\n",
      "iifn\n",
      "iifn\n",
      "iifs\n",
      "iifs\n",
      "iify\n",
      "iify\n",
      "iigd\n",
      "iigd\n",
      "iigf\n",
      "iigf\n",
      "iign\n",
      "iign\n",
      "iigs\n",
      "iigs\n",
      "iigy\n",
      "iigy\n",
      "iind\n",
      "iind\n",
      "iinf\n",
      "iinf\n",
      "iing\n",
      "iing\n",
      "iins\n",
      "iins\n",
      "iiny\n",
      "iiny\n",
      "iisd\n",
      "iisd\n",
      "iisf\n",
      "iisf\n",
      "iisg\n",
      "iisg\n",
      "iisn\n",
      "iisn\n",
      "iisy\n",
      "iisy\n",
      "iiyd\n",
      "iiyd\n",
      "iiyf\n",
      "iiyf\n",
      "iiyg\n",
      "iiyg\n",
      "iiyn\n",
      "iiyn\n",
      "iiys\n",
      "iiys\n",
      "indf\n",
      "indf\n",
      "indg\n",
      "indg\n",
      "indi\n",
      "indi\n",
      "inds\n",
      "inds\n",
      "indy\n",
      "indy\n",
      "infd\n",
      "infd\n",
      "infg\n",
      "infg\n",
      "infi\n",
      "infi\n",
      "infs\n",
      "infs\n",
      "infy\n",
      "infy\n",
      "ingd\n",
      "ingd\n",
      "ingf\n",
      "ingf\n",
      "ingi\n",
      "ingi\n",
      "ings\n",
      "ings\n",
      "ingy\n",
      "ingy\n",
      "inid\n",
      "inid\n",
      "inif\n",
      "inif\n",
      "inig\n",
      "inig\n",
      "inis\n",
      "inis\n",
      "iniy\n",
      "iniy\n",
      "insd\n",
      "insd\n",
      "insf\n",
      "insf\n",
      "insg\n",
      "insg\n",
      "insi\n",
      "insi\n",
      "insy\n",
      "insy\n",
      "inyd\n",
      "inyd\n",
      "inyf\n",
      "inyf\n",
      "inyg\n",
      "inyg\n",
      "inyi\n",
      "inyi\n",
      "inys\n",
      "inys\n",
      "isdf\n",
      "isdf\n",
      "isdg\n",
      "isdg\n",
      "isdi\n",
      "isdi\n",
      "isdn\n",
      "isdn\n",
      "isdy\n",
      "isdy\n",
      "isfd\n",
      "isfd\n",
      "isfg\n",
      "isfg\n",
      "isfi\n",
      "isfi\n",
      "isfn\n",
      "isfn\n",
      "isfy\n",
      "isfy\n",
      "isgd\n",
      "isgd\n",
      "isgf\n",
      "isgf\n",
      "isgi\n",
      "isgi\n",
      "isgn\n",
      "isgn\n",
      "isgy\n",
      "isgy\n",
      "isid\n",
      "isid\n",
      "isif\n",
      "isif\n",
      "isig\n",
      "isig\n",
      "isin\n",
      "isin\n",
      "isiy\n",
      "isiy\n",
      "isnd\n",
      "isnd\n",
      "isnf\n",
      "isnf\n",
      "isng\n",
      "isng\n",
      "isni\n",
      "isni\n",
      "isny\n",
      "isny\n",
      "isyd\n",
      "isyd\n",
      "isyf\n",
      "isyf\n",
      "isyg\n",
      "isyg\n",
      "isyi\n",
      "isyi\n",
      "isyn\n",
      "isyn\n",
      "iydf\n",
      "iydf\n",
      "iydg\n",
      "iydg\n",
      "iydi\n",
      "iydi\n",
      "iydn\n",
      "iydn\n",
      "iyds\n",
      "iyds\n",
      "iyfd\n",
      "iyfd\n",
      "iyfg\n",
      "iyfg\n",
      "iyfi\n",
      "iyfi\n",
      "iyfn\n",
      "iyfn\n",
      "iyfs\n",
      "iyfs\n",
      "iygd\n",
      "iygd\n",
      "iygf\n",
      "iygf\n",
      "iygi\n",
      "iygi\n",
      "iygn\n",
      "iygn\n",
      "iygs\n",
      "iygs\n",
      "iyid\n",
      "iyid\n",
      "iyif\n",
      "iyif\n",
      "iyig\n",
      "iyig\n",
      "iyin\n",
      "iyin\n",
      "iyis\n",
      "iyis\n",
      "iynd\n",
      "iynd\n",
      "iynf\n",
      "iynf\n",
      "iyng\n",
      "iyng\n",
      "iyni\n",
      "iyni\n",
      "iyns\n",
      "iyns\n",
      "iysd\n",
      "iysd\n",
      "iysf\n",
      "iysf\n",
      "iysg\n",
      "iysg\n",
      "iysi\n",
      "iysi\n",
      "iysn\n",
      "iysn\n",
      "ndfg\n",
      "ndfi\n",
      "ndfi\n",
      "ndfs\n",
      "ndfy\n",
      "ndgf\n",
      "ndgi\n",
      "ndgi\n",
      "ndgs\n",
      "ndgy\n",
      "ndif\n",
      "ndif\n",
      "ndig\n",
      "ndig\n",
      "ndii\n",
      "ndii\n",
      "ndis\n",
      "ndis\n",
      "ndiy\n",
      "ndiy\n",
      "ndsf\n",
      "ndsg\n",
      "ndsi\n",
      "ndsi\n",
      "ndsy\n",
      "ndyf\n",
      "ndyg\n",
      "ndyi\n",
      "ndyi\n",
      "ndys\n",
      "nfdg\n",
      "nfdi\n",
      "nfdi\n",
      "nfds\n",
      "nfdy\n",
      "nfgd\n",
      "nfgi\n",
      "nfgi\n",
      "nfgs\n",
      "nfgy\n",
      "nfid\n",
      "nfid\n",
      "nfig\n",
      "nfig\n",
      "nfii\n",
      "nfii\n",
      "nfis\n",
      "nfis\n",
      "nfiy\n",
      "nfiy\n",
      "nfsd\n",
      "nfsg\n",
      "nfsi\n",
      "nfsi\n",
      "nfsy\n",
      "nfyd\n",
      "nfyg\n",
      "nfyi\n",
      "nfyi\n",
      "nfys\n",
      "ngdf\n",
      "ngdi\n",
      "ngdi\n",
      "ngds\n",
      "ngdy\n",
      "ngfd\n",
      "ngfi\n",
      "ngfi\n",
      "ngfs\n",
      "ngfy\n",
      "ngid\n",
      "ngid\n",
      "ngif\n",
      "ngif\n",
      "ngii\n",
      "ngii\n",
      "ngis\n",
      "ngis\n",
      "ngiy\n",
      "ngiy\n",
      "ngsd\n",
      "ngsf\n",
      "ngsi\n",
      "ngsi\n",
      "ngsy\n",
      "ngyd\n",
      "ngyf\n",
      "ngyi\n",
      "ngyi\n",
      "ngys\n",
      "nidf\n",
      "nidf\n",
      "nidg\n",
      "nidg\n",
      "nidi\n",
      "nidi\n",
      "nids\n",
      "nids\n",
      "nidy\n",
      "nidy\n",
      "nifd\n",
      "nifd\n",
      "nifg\n",
      "nifg\n",
      "nifi\n",
      "nifi\n",
      "nifs\n",
      "nifs\n",
      "nify\n",
      "nify\n",
      "nigd\n",
      "nigd\n",
      "nigf\n",
      "nigf\n",
      "nigi\n",
      "nigi\n",
      "nigs\n",
      "nigs\n",
      "nigy\n",
      "nigy\n",
      "niid\n",
      "niid\n",
      "niif\n",
      "niif\n",
      "niig\n",
      "niig\n",
      "niis\n",
      "niis\n",
      "niiy\n",
      "niiy\n",
      "nisd\n",
      "nisd\n",
      "nisf\n",
      "nisf\n",
      "nisg\n",
      "nisg\n",
      "nisi\n",
      "nisi\n",
      "nisy\n",
      "nisy\n",
      "niyd\n",
      "niyd\n",
      "niyf\n",
      "niyf\n",
      "niyg\n",
      "niyg\n",
      "niyi\n",
      "niyi\n",
      "niys\n",
      "niys\n",
      "nsdf\n",
      "nsdg\n",
      "nsdi\n",
      "nsdi\n",
      "nsdy\n",
      "nsfd\n",
      "nsfg\n",
      "nsfi\n",
      "nsfi\n",
      "nsfy\n",
      "nsgd\n",
      "nsgf\n",
      "nsgi\n",
      "nsgi\n",
      "nsgy\n",
      "nsid\n",
      "nsid\n",
      "nsif\n",
      "nsif\n",
      "nsig\n",
      "nsig\n",
      "nsii\n",
      "nsii\n",
      "nsiy\n",
      "nsiy\n",
      "nsyd\n",
      "nsyf\n",
      "nsyg\n",
      "nsyi\n",
      "nsyi\n",
      "nydf\n",
      "nydg\n",
      "nydi\n",
      "nydi\n",
      "nyds\n",
      "nyfd\n",
      "nyfg\n",
      "nyfi\n",
      "nyfi\n",
      "nyfs\n",
      "nygd\n",
      "nygf\n",
      "nygi\n",
      "nygi\n",
      "nygs\n",
      "nyid\n",
      "nyid\n",
      "nyif\n",
      "nyif\n",
      "nyig\n",
      "nyig\n",
      "nyii\n",
      "nyii\n",
      "nyis\n",
      "nyis\n",
      "nysd\n",
      "nysf\n",
      "nysg\n",
      "nysi\n",
      "nysi\n",
      "sdfg\n",
      "sdfi\n",
      "sdfi\n",
      "sdfn\n",
      "sdfy\n",
      "sdgf\n",
      "sdgi\n",
      "sdgi\n",
      "sdgn\n",
      "sdgy\n",
      "sdif\n",
      "sdif\n",
      "sdig\n",
      "sdig\n",
      "sdii\n",
      "sdii\n",
      "sdin\n",
      "sdin\n",
      "sdiy\n",
      "sdiy\n",
      "sdnf\n",
      "sdng\n",
      "sdni\n",
      "sdni\n",
      "sdny\n",
      "sdyf\n",
      "sdyg\n",
      "sdyi\n",
      "sdyi\n",
      "sdyn\n",
      "sfdg\n",
      "sfdi\n",
      "sfdi\n",
      "sfdn\n",
      "sfdy\n",
      "sfgd\n",
      "sfgi\n",
      "sfgi\n",
      "sfgn\n",
      "sfgy\n",
      "sfid\n",
      "sfid\n",
      "sfig\n",
      "sfig\n",
      "sfii\n",
      "sfii\n",
      "sfin\n",
      "sfin\n",
      "sfiy\n",
      "sfiy\n",
      "sfnd\n",
      "sfng\n",
      "sfni\n",
      "sfni\n",
      "sfny\n",
      "sfyd\n",
      "sfyg\n",
      "sfyi\n",
      "sfyi\n",
      "sfyn\n",
      "sgdf\n",
      "sgdi\n",
      "sgdi\n",
      "sgdn\n",
      "sgdy\n",
      "sgfd\n",
      "sgfi\n",
      "sgfi\n",
      "sgfn\n",
      "sgfy\n",
      "sgid\n",
      "sgid\n",
      "sgif\n",
      "sgif\n",
      "sgii\n",
      "sgii\n",
      "sgin\n",
      "sgin\n",
      "sgiy\n",
      "sgiy\n",
      "sgnd\n",
      "sgnf\n",
      "sgni\n",
      "sgni\n",
      "sgny\n",
      "sgyd\n",
      "sgyf\n",
      "sgyi\n",
      "sgyi\n",
      "sgyn\n",
      "sidf\n",
      "sidf\n",
      "sidg\n",
      "sidg\n",
      "sidi\n",
      "sidi\n",
      "sidn\n",
      "sidn\n",
      "sidy\n",
      "sidy\n",
      "sifd\n",
      "sifd\n",
      "sifg\n",
      "sifg\n",
      "sifi\n",
      "sifi\n",
      "sifn\n",
      "sifn\n",
      "sify\n",
      "sify\n",
      "sigd\n",
      "sigd\n",
      "sigf\n",
      "sigf\n",
      "sigi\n",
      "sigi\n",
      "sign\n",
      "sign\n",
      "sigy\n",
      "sigy\n",
      "siid\n",
      "siid\n",
      "siif\n",
      "siif\n",
      "siig\n",
      "siig\n",
      "siin\n",
      "siin\n",
      "siiy\n",
      "siiy\n",
      "sind\n",
      "sind\n",
      "sinf\n",
      "sinf\n",
      "sing\n",
      "sing\n",
      "sini\n",
      "sini\n",
      "siny\n",
      "siny\n",
      "siyd\n",
      "siyd\n",
      "siyf\n",
      "siyf\n",
      "siyg\n",
      "siyg\n",
      "siyi\n",
      "siyi\n",
      "siyn\n",
      "siyn\n",
      "sndf\n",
      "sndg\n",
      "sndi\n",
      "sndi\n",
      "sndy\n",
      "snfd\n",
      "snfg\n",
      "snfi\n",
      "snfi\n",
      "snfy\n",
      "sngd\n",
      "sngf\n",
      "sngi\n",
      "sngi\n",
      "sngy\n",
      "snid\n",
      "snid\n",
      "snif\n",
      "snif\n",
      "snig\n",
      "snig\n",
      "snii\n",
      "snii\n",
      "sniy\n",
      "sniy\n",
      "snyd\n",
      "snyf\n",
      "snyg\n",
      "snyi\n",
      "snyi\n",
      "sydf\n",
      "sydg\n",
      "sydi\n",
      "sydi\n",
      "sydn\n",
      "syfd\n",
      "syfg\n",
      "syfi\n",
      "syfi\n",
      "syfn\n",
      "sygd\n",
      "sygf\n",
      "sygi\n",
      "sygi\n",
      "sygn\n",
      "syid\n",
      "syid\n",
      "syif\n",
      "syif\n",
      "syig\n",
      "syig\n",
      "syii\n",
      "syii\n",
      "syin\n",
      "syin\n",
      "synd\n",
      "synf\n",
      "syng\n",
      "syni\n",
      "syni\n",
      "ydfg\n",
      "ydfi\n",
      "ydfi\n",
      "ydfn\n",
      "ydfs\n",
      "ydgf\n",
      "ydgi\n",
      "ydgi\n",
      "ydgn\n",
      "ydgs\n",
      "ydif\n",
      "ydif\n",
      "ydig\n",
      "ydig\n",
      "ydii\n",
      "ydii\n",
      "ydin\n",
      "ydin\n",
      "ydis\n",
      "ydis\n",
      "ydnf\n",
      "ydng\n",
      "ydni\n",
      "ydni\n",
      "ydns\n",
      "ydsf\n",
      "ydsg\n",
      "ydsi\n",
      "ydsi\n",
      "ydsn\n",
      "yfdg\n",
      "yfdi\n",
      "yfdi\n",
      "yfdn\n",
      "yfds\n",
      "yfgd\n",
      "yfgi\n",
      "yfgi\n",
      "yfgn\n",
      "yfgs\n",
      "yfid\n",
      "yfid\n",
      "yfig\n",
      "yfig\n",
      "yfii\n",
      "yfii\n",
      "yfin\n",
      "yfin\n",
      "yfis\n",
      "yfis\n",
      "yfnd\n",
      "yfng\n",
      "yfni\n",
      "yfni\n",
      "yfns\n",
      "yfsd\n",
      "yfsg\n",
      "yfsi\n",
      "yfsi\n",
      "yfsn\n",
      "ygdf\n",
      "ygdi\n",
      "ygdi\n",
      "ygdn\n",
      "ygds\n",
      "ygfd\n",
      "ygfi\n",
      "ygfi\n",
      "ygfn\n",
      "ygfs\n",
      "ygid\n",
      "ygid\n",
      "ygif\n",
      "ygif\n",
      "ygii\n",
      "ygii\n",
      "ygin\n",
      "ygin\n",
      "ygis\n",
      "ygis\n",
      "ygnd\n",
      "ygnf\n",
      "ygni\n",
      "ygni\n",
      "ygns\n",
      "ygsd\n",
      "ygsf\n",
      "ygsi\n",
      "ygsi\n",
      "ygsn\n",
      "yidf\n",
      "yidf\n",
      "yidg\n",
      "yidg\n",
      "yidi\n",
      "yidi\n",
      "yidn\n",
      "yidn\n",
      "yids\n",
      "yids\n",
      "yifd\n",
      "yifd\n",
      "yifg\n",
      "yifg\n",
      "yifi\n",
      "yifi\n",
      "yifn\n",
      "yifn\n",
      "yifs\n",
      "yifs\n",
      "yigd\n",
      "yigd\n",
      "yigf\n",
      "yigf\n",
      "yigi\n",
      "yigi\n",
      "yign\n",
      "yign\n",
      "yigs\n",
      "yigs\n",
      "yiid\n",
      "yiid\n",
      "yiif\n",
      "yiif\n",
      "yiig\n",
      "yiig\n",
      "yiin\n",
      "yiin\n",
      "yiis\n",
      "yiis\n",
      "yind\n",
      "yind\n",
      "yinf\n",
      "yinf\n",
      "ying\n",
      "ying\n",
      "yini\n",
      "yini\n",
      "yins\n",
      "yins\n",
      "yisd\n",
      "yisd\n",
      "yisf\n",
      "yisf\n",
      "yisg\n",
      "yisg\n",
      "yisi\n",
      "yisi\n",
      "yisn\n",
      "yisn\n",
      "yndf\n",
      "yndg\n",
      "yndi\n",
      "yndi\n",
      "ynds\n",
      "ynfd\n",
      "ynfg\n",
      "ynfi\n",
      "ynfi\n",
      "ynfs\n",
      "yngd\n",
      "yngf\n",
      "yngi\n",
      "yngi\n",
      "yngs\n",
      "ynid\n",
      "ynid\n",
      "ynif\n",
      "ynif\n",
      "ynig\n",
      "ynig\n",
      "ynii\n",
      "ynii\n",
      "ynis\n",
      "ynis\n",
      "ynsd\n",
      "ynsf\n",
      "ynsg\n",
      "ynsi\n",
      "ynsi\n",
      "ysdf\n",
      "ysdg\n",
      "ysdi\n",
      "ysdi\n",
      "ysdn\n",
      "ysfd\n",
      "ysfg\n",
      "ysfi\n",
      "ysfi\n",
      "ysfn\n",
      "ysgd\n",
      "ysgf\n",
      "ysgi\n",
      "ysgi\n",
      "ysgn\n",
      "ysid\n",
      "ysid\n",
      "ysif\n",
      "ysif\n",
      "ysig\n",
      "ysig\n",
      "ysii\n",
      "ysii\n",
      "ysin\n",
      "ysin\n",
      "ysnd\n",
      "ysnf\n",
      "ysng\n",
      "ysni\n",
      "ysni\n"
     ]
    },
    {
     "data": {
      "text/plain": [
       "[None,\n",
       " None,\n",
       " None,\n",
       " None,\n",
       " None,\n",
       " None,\n",
       " None,\n",
       " None,\n",
       " None,\n",
       " None,\n",
       " None,\n",
       " None,\n",
       " None,\n",
       " None,\n",
       " None,\n",
       " None,\n",
       " None,\n",
       " None,\n",
       " None,\n",
       " None,\n",
       " None,\n",
       " None,\n",
       " None,\n",
       " None,\n",
       " None,\n",
       " None,\n",
       " None,\n",
       " None,\n",
       " None,\n",
       " None,\n",
       " None,\n",
       " None,\n",
       " None,\n",
       " None,\n",
       " None,\n",
       " None,\n",
       " None,\n",
       " None,\n",
       " None,\n",
       " None,\n",
       " None,\n",
       " None,\n",
       " None,\n",
       " None,\n",
       " None,\n",
       " None,\n",
       " None,\n",
       " None,\n",
       " None,\n",
       " None,\n",
       " None,\n",
       " None,\n",
       " None,\n",
       " None,\n",
       " None,\n",
       " None,\n",
       " None,\n",
       " None,\n",
       " None,\n",
       " None,\n",
       " None,\n",
       " None,\n",
       " None,\n",
       " None,\n",
       " None,\n",
       " None,\n",
       " None,\n",
       " None,\n",
       " None,\n",
       " None,\n",
       " None,\n",
       " None,\n",
       " None,\n",
       " None,\n",
       " None,\n",
       " None,\n",
       " None,\n",
       " None,\n",
       " None,\n",
       " None,\n",
       " None,\n",
       " None,\n",
       " None,\n",
       " None,\n",
       " None,\n",
       " None,\n",
       " None,\n",
       " None,\n",
       " None,\n",
       " None,\n",
       " None,\n",
       " None,\n",
       " None,\n",
       " None,\n",
       " None,\n",
       " None,\n",
       " None,\n",
       " None,\n",
       " None,\n",
       " None,\n",
       " None,\n",
       " None,\n",
       " None,\n",
       " None,\n",
       " None,\n",
       " None,\n",
       " None,\n",
       " None,\n",
       " None,\n",
       " None,\n",
       " None,\n",
       " None,\n",
       " None,\n",
       " None,\n",
       " None,\n",
       " None,\n",
       " None,\n",
       " None,\n",
       " None,\n",
       " None,\n",
       " None,\n",
       " None,\n",
       " None,\n",
       " None,\n",
       " None,\n",
       " None,\n",
       " None,\n",
       " None,\n",
       " None,\n",
       " None,\n",
       " None,\n",
       " None,\n",
       " None,\n",
       " None,\n",
       " None,\n",
       " None,\n",
       " None,\n",
       " None,\n",
       " None,\n",
       " None,\n",
       " None,\n",
       " None,\n",
       " None,\n",
       " None,\n",
       " None,\n",
       " None,\n",
       " None,\n",
       " None,\n",
       " None,\n",
       " None,\n",
       " None,\n",
       " None,\n",
       " None,\n",
       " None,\n",
       " None,\n",
       " None,\n",
       " None,\n",
       " None,\n",
       " None,\n",
       " None,\n",
       " None,\n",
       " None,\n",
       " None,\n",
       " None,\n",
       " None,\n",
       " None,\n",
       " None,\n",
       " None,\n",
       " None,\n",
       " None,\n",
       " None,\n",
       " None,\n",
       " None,\n",
       " None,\n",
       " None,\n",
       " None,\n",
       " None,\n",
       " None,\n",
       " None,\n",
       " None,\n",
       " None,\n",
       " None,\n",
       " None,\n",
       " None,\n",
       " None,\n",
       " None,\n",
       " None,\n",
       " None,\n",
       " None,\n",
       " None,\n",
       " None,\n",
       " None,\n",
       " None,\n",
       " None,\n",
       " None,\n",
       " None,\n",
       " None,\n",
       " None,\n",
       " None,\n",
       " None,\n",
       " None,\n",
       " None,\n",
       " None,\n",
       " None,\n",
       " None,\n",
       " None,\n",
       " None,\n",
       " None,\n",
       " None,\n",
       " None,\n",
       " None,\n",
       " None,\n",
       " None,\n",
       " None,\n",
       " None,\n",
       " None,\n",
       " None,\n",
       " None,\n",
       " None,\n",
       " None,\n",
       " None,\n",
       " None,\n",
       " None,\n",
       " None,\n",
       " None,\n",
       " None,\n",
       " None,\n",
       " None,\n",
       " None,\n",
       " None,\n",
       " None,\n",
       " None,\n",
       " None,\n",
       " None,\n",
       " None,\n",
       " None,\n",
       " None,\n",
       " None,\n",
       " None,\n",
       " None,\n",
       " None,\n",
       " None,\n",
       " None,\n",
       " None,\n",
       " None,\n",
       " None,\n",
       " None,\n",
       " None,\n",
       " None,\n",
       " None,\n",
       " None,\n",
       " None,\n",
       " None,\n",
       " None,\n",
       " None,\n",
       " None,\n",
       " None,\n",
       " None,\n",
       " None,\n",
       " None,\n",
       " None,\n",
       " None,\n",
       " None,\n",
       " None,\n",
       " None,\n",
       " None,\n",
       " None,\n",
       " None,\n",
       " None,\n",
       " None,\n",
       " None,\n",
       " None,\n",
       " None,\n",
       " None,\n",
       " None,\n",
       " None,\n",
       " None,\n",
       " None,\n",
       " None,\n",
       " None,\n",
       " None,\n",
       " None,\n",
       " None,\n",
       " None,\n",
       " None,\n",
       " None,\n",
       " None,\n",
       " None,\n",
       " None,\n",
       " None,\n",
       " None,\n",
       " None,\n",
       " None,\n",
       " None,\n",
       " None,\n",
       " None,\n",
       " None,\n",
       " None,\n",
       " None,\n",
       " None,\n",
       " None,\n",
       " None,\n",
       " None,\n",
       " None,\n",
       " None,\n",
       " None,\n",
       " None,\n",
       " None,\n",
       " None,\n",
       " None,\n",
       " None,\n",
       " None,\n",
       " None,\n",
       " None,\n",
       " None,\n",
       " None,\n",
       " None,\n",
       " None,\n",
       " None,\n",
       " None,\n",
       " None,\n",
       " None,\n",
       " None,\n",
       " None,\n",
       " None,\n",
       " None,\n",
       " None,\n",
       " None,\n",
       " None,\n",
       " None,\n",
       " None,\n",
       " None,\n",
       " None,\n",
       " None,\n",
       " None,\n",
       " None,\n",
       " None,\n",
       " None,\n",
       " None,\n",
       " None,\n",
       " None,\n",
       " None,\n",
       " None,\n",
       " None,\n",
       " None,\n",
       " None,\n",
       " None,\n",
       " None,\n",
       " None,\n",
       " None,\n",
       " None,\n",
       " None,\n",
       " None,\n",
       " None,\n",
       " None,\n",
       " None,\n",
       " None,\n",
       " None,\n",
       " None,\n",
       " None,\n",
       " None,\n",
       " None,\n",
       " None,\n",
       " None,\n",
       " None,\n",
       " None,\n",
       " None,\n",
       " None,\n",
       " None,\n",
       " None,\n",
       " None,\n",
       " None,\n",
       " None,\n",
       " None,\n",
       " None,\n",
       " None,\n",
       " None,\n",
       " None,\n",
       " None,\n",
       " None,\n",
       " None,\n",
       " None,\n",
       " None,\n",
       " None,\n",
       " None,\n",
       " None,\n",
       " None,\n",
       " None,\n",
       " None,\n",
       " None,\n",
       " None,\n",
       " None,\n",
       " None,\n",
       " None,\n",
       " None,\n",
       " None,\n",
       " None,\n",
       " None,\n",
       " None,\n",
       " None,\n",
       " None,\n",
       " None,\n",
       " None,\n",
       " None,\n",
       " None,\n",
       " None,\n",
       " None,\n",
       " None,\n",
       " None,\n",
       " None,\n",
       " None,\n",
       " None,\n",
       " None,\n",
       " None,\n",
       " None,\n",
       " None,\n",
       " None,\n",
       " None,\n",
       " None,\n",
       " None,\n",
       " None,\n",
       " None,\n",
       " None,\n",
       " None,\n",
       " None,\n",
       " None,\n",
       " None,\n",
       " None,\n",
       " None,\n",
       " None,\n",
       " None,\n",
       " None,\n",
       " None,\n",
       " None,\n",
       " None,\n",
       " None,\n",
       " None,\n",
       " None,\n",
       " None,\n",
       " None,\n",
       " None,\n",
       " None,\n",
       " None,\n",
       " None,\n",
       " None,\n",
       " None,\n",
       " None,\n",
       " None,\n",
       " None,\n",
       " None,\n",
       " None,\n",
       " None,\n",
       " None,\n",
       " None,\n",
       " None,\n",
       " None,\n",
       " None,\n",
       " None,\n",
       " None,\n",
       " None,\n",
       " None,\n",
       " None,\n",
       " None,\n",
       " None,\n",
       " None,\n",
       " None,\n",
       " None,\n",
       " None,\n",
       " None,\n",
       " None,\n",
       " None,\n",
       " None,\n",
       " None,\n",
       " None,\n",
       " None,\n",
       " None,\n",
       " None,\n",
       " None,\n",
       " None,\n",
       " None,\n",
       " None,\n",
       " None,\n",
       " None,\n",
       " None,\n",
       " None,\n",
       " None,\n",
       " None,\n",
       " None,\n",
       " None,\n",
       " None,\n",
       " None,\n",
       " None,\n",
       " None,\n",
       " None,\n",
       " None,\n",
       " None,\n",
       " None,\n",
       " None,\n",
       " None,\n",
       " None,\n",
       " None,\n",
       " None,\n",
       " None,\n",
       " None,\n",
       " None,\n",
       " None,\n",
       " None,\n",
       " None,\n",
       " None,\n",
       " None,\n",
       " None,\n",
       " None,\n",
       " None,\n",
       " None,\n",
       " None,\n",
       " None,\n",
       " None,\n",
       " None,\n",
       " None,\n",
       " None,\n",
       " None,\n",
       " None,\n",
       " None,\n",
       " None,\n",
       " None,\n",
       " None,\n",
       " None,\n",
       " None,\n",
       " None,\n",
       " None,\n",
       " None,\n",
       " None,\n",
       " None,\n",
       " None,\n",
       " None,\n",
       " None,\n",
       " None,\n",
       " None,\n",
       " None,\n",
       " None,\n",
       " None,\n",
       " None,\n",
       " None,\n",
       " None,\n",
       " None,\n",
       " None,\n",
       " None,\n",
       " None,\n",
       " None,\n",
       " None,\n",
       " None,\n",
       " None,\n",
       " None,\n",
       " None,\n",
       " None,\n",
       " None,\n",
       " None,\n",
       " None,\n",
       " None,\n",
       " None,\n",
       " None,\n",
       " None,\n",
       " None,\n",
       " None,\n",
       " None,\n",
       " None,\n",
       " None,\n",
       " None,\n",
       " None,\n",
       " None,\n",
       " None,\n",
       " None,\n",
       " None,\n",
       " None,\n",
       " None,\n",
       " None,\n",
       " None,\n",
       " None,\n",
       " None,\n",
       " None,\n",
       " None,\n",
       " None,\n",
       " None,\n",
       " None,\n",
       " None,\n",
       " None,\n",
       " None,\n",
       " None,\n",
       " None,\n",
       " None,\n",
       " None,\n",
       " None,\n",
       " None,\n",
       " None,\n",
       " None,\n",
       " None,\n",
       " None,\n",
       " None,\n",
       " None,\n",
       " None,\n",
       " None,\n",
       " None,\n",
       " None,\n",
       " None,\n",
       " None,\n",
       " None,\n",
       " None,\n",
       " None,\n",
       " None,\n",
       " None,\n",
       " None,\n",
       " None,\n",
       " None,\n",
       " None,\n",
       " None,\n",
       " None,\n",
       " None,\n",
       " None,\n",
       " None,\n",
       " None,\n",
       " None,\n",
       " None,\n",
       " None,\n",
       " None,\n",
       " None,\n",
       " None,\n",
       " None,\n",
       " None,\n",
       " None,\n",
       " None,\n",
       " None,\n",
       " None,\n",
       " None,\n",
       " None,\n",
       " None,\n",
       " None,\n",
       " None,\n",
       " None,\n",
       " None,\n",
       " None,\n",
       " None,\n",
       " None,\n",
       " None,\n",
       " None,\n",
       " None,\n",
       " None,\n",
       " None,\n",
       " None,\n",
       " None,\n",
       " None,\n",
       " None,\n",
       " None,\n",
       " None,\n",
       " None,\n",
       " None,\n",
       " None,\n",
       " None,\n",
       " None,\n",
       " None,\n",
       " None,\n",
       " None,\n",
       " None,\n",
       " None,\n",
       " None,\n",
       " None,\n",
       " None,\n",
       " None,\n",
       " None,\n",
       " None,\n",
       " None,\n",
       " None,\n",
       " None,\n",
       " None,\n",
       " None,\n",
       " None,\n",
       " None,\n",
       " None,\n",
       " None,\n",
       " None,\n",
       " None,\n",
       " None,\n",
       " None,\n",
       " None,\n",
       " None,\n",
       " None,\n",
       " None,\n",
       " None,\n",
       " None,\n",
       " None,\n",
       " None,\n",
       " None,\n",
       " None,\n",
       " None,\n",
       " None,\n",
       " None,\n",
       " None,\n",
       " None,\n",
       " None,\n",
       " None,\n",
       " None,\n",
       " None,\n",
       " None,\n",
       " None,\n",
       " None,\n",
       " None,\n",
       " None,\n",
       " None,\n",
       " None,\n",
       " None,\n",
       " None,\n",
       " None,\n",
       " None,\n",
       " None,\n",
       " None,\n",
       " None,\n",
       " None,\n",
       " None,\n",
       " None,\n",
       " None,\n",
       " None,\n",
       " None,\n",
       " None,\n",
       " None,\n",
       " None,\n",
       " None,\n",
       " None,\n",
       " None,\n",
       " None,\n",
       " None,\n",
       " None,\n",
       " None,\n",
       " None,\n",
       " None,\n",
       " None,\n",
       " None,\n",
       " None,\n",
       " None,\n",
       " None,\n",
       " None,\n",
       " None,\n",
       " None,\n",
       " None,\n",
       " None,\n",
       " None,\n",
       " None,\n",
       " None,\n",
       " None,\n",
       " None,\n",
       " None,\n",
       " None,\n",
       " None,\n",
       " None,\n",
       " None,\n",
       " None,\n",
       " None,\n",
       " None,\n",
       " None,\n",
       " None,\n",
       " None,\n",
       " None,\n",
       " None,\n",
       " None,\n",
       " None,\n",
       " None,\n",
       " None,\n",
       " None,\n",
       " None,\n",
       " None,\n",
       " None,\n",
       " None,\n",
       " None,\n",
       " None,\n",
       " None,\n",
       " None,\n",
       " None,\n",
       " None,\n",
       " None,\n",
       " None,\n",
       " None,\n",
       " None,\n",
       " None,\n",
       " None,\n",
       " None,\n",
       " None,\n",
       " None,\n",
       " None,\n",
       " None,\n",
       " None,\n",
       " None,\n",
       " None,\n",
       " None,\n",
       " None,\n",
       " None,\n",
       " None,\n",
       " None,\n",
       " None,\n",
       " None,\n",
       " None,\n",
       " None,\n",
       " None,\n",
       " None,\n",
       " None,\n",
       " None,\n",
       " None,\n",
       " None,\n",
       " None,\n",
       " None,\n",
       " None,\n",
       " None,\n",
       " None,\n",
       " None,\n",
       " None,\n",
       " None,\n",
       " None,\n",
       " None,\n",
       " None,\n",
       " None,\n",
       " None,\n",
       " None,\n",
       " None,\n",
       " None,\n",
       " None,\n",
       " None,\n",
       " None,\n",
       " None,\n",
       " None,\n",
       " None,\n",
       " None,\n",
       " None,\n",
       " None,\n",
       " None,\n",
       " None,\n",
       " None,\n",
       " None,\n",
       " None,\n",
       " None,\n",
       " None,\n",
       " None,\n",
       " None,\n",
       " None,\n",
       " None,\n",
       " None,\n",
       " None,\n",
       " None,\n",
       " None,\n",
       " None,\n",
       " None,\n",
       " None,\n",
       " None,\n",
       " None,\n",
       " None,\n",
       " None,\n",
       " None,\n",
       " None,\n",
       " None,\n",
       " None,\n",
       " None,\n",
       " None,\n",
       " None,\n",
       " None,\n",
       " None,\n",
       " None,\n",
       " None,\n",
       " None,\n",
       " None,\n",
       " None,\n",
       " None,\n",
       " None,\n",
       " None,\n",
       " None,\n",
       " None,\n",
       " None,\n",
       " None,\n",
       " None,\n",
       " None,\n",
       " None,\n",
       " None,\n",
       " None,\n",
       " None,\n",
       " None,\n",
       " None,\n",
       " None,\n",
       " None,\n",
       " None,\n",
       " None,\n",
       " None,\n",
       " None,\n",
       " None,\n",
       " None,\n",
       " None,\n",
       " None,\n",
       " None,\n",
       " None,\n",
       " None,\n",
       " None,\n",
       " None,\n",
       " None,\n",
       " None,\n",
       " None,\n",
       " None,\n",
       " None,\n",
       " None,\n",
       " None,\n",
       " None,\n",
       " None,\n",
       " None,\n",
       " None,\n",
       " None,\n",
       " None,\n",
       " None,\n",
       " None,\n",
       " None,\n",
       " None,\n",
       " None,\n",
       " None,\n",
       " None,\n",
       " None,\n",
       " None,\n",
       " None,\n",
       " None,\n",
       " None,\n",
       " None,\n",
       " None,\n",
       " None,\n",
       " None,\n",
       " None,\n",
       " None,\n",
       " None,\n",
       " None,\n",
       " None,\n",
       " None,\n",
       " None,\n",
       " None,\n",
       " None,\n",
       " None,\n",
       " None,\n",
       " None,\n",
       " None,\n",
       " None,\n",
       " None,\n",
       " None,\n",
       " None,\n",
       " None,\n",
       " None,\n",
       " None,\n",
       " None,\n",
       " None,\n",
       " None,\n",
       " None,\n",
       " None,\n",
       " None,\n",
       " None,\n",
       " None,\n",
       " None,\n",
       " None,\n",
       " None,\n",
       " None,\n",
       " None,\n",
       " None,\n",
       " None,\n",
       " None,\n",
       " None,\n",
       " None,\n",
       " None,\n",
       " None,\n",
       " None,\n",
       " None,\n",
       " None,\n",
       " None,\n",
       " None,\n",
       " None,\n",
       " None,\n",
       " None,\n",
       " None,\n",
       " None,\n",
       " None,\n",
       " None,\n",
       " None,\n",
       " None,\n",
       " None,\n",
       " None,\n",
       " None,\n",
       " None,\n",
       " None,\n",
       " None,\n",
       " None,\n",
       " None,\n",
       " None,\n",
       " None,\n",
       " None,\n",
       " None,\n",
       " None,\n",
       " None,\n",
       " None,\n",
       " None,\n",
       " None,\n",
       " None,\n",
       " None,\n",
       " None,\n",
       " None,\n",
       " ...]"
      ]
     },
     "execution_count": 2,
     "metadata": {},
     "output_type": "execute_result"
    }
   ],
   "source": [
    "# Enter your code here. Read input from STDIN. Print output to STDOUT\n",
    "from itertools import permutations\n",
    "\n",
    "string, string_len = input().split()\n",
    "permutation_list = sorted(list(permutations(string, int(string_len))))\n",
    "[print(\"\".join(i)) for i in permutation_list]"
   ]
  },
  {
   "cell_type": "code",
   "execution_count": 5,
   "metadata": {},
   "outputs": [
    {
     "name": "stdout",
     "output_type": "stream",
     "text": [
      "Best Parameters: {'max_depth': None, 'min_samples_leaf': 4, 'min_samples_split': 10}\n",
      "Best PRAUC Score: 0.9283748576582838\n",
      "Test PRAUC: 0.9252775911670135\n"
     ]
    }
   ],
   "source": [
    "import numpy as np\n",
    "from sklearn.datasets import make_classification\n",
    "from sklearn.tree import DecisionTreeClassifier\n",
    "from sklearn.model_selection import train_test_split, GridSearchCV\n",
    "from sklearn.metrics import make_scorer, precision_recall_curve, auc\n",
    "\n",
    "# Step 1: Generate a toy dataset\n",
    "X, y = make_classification(n_samples=1000, n_features=20, n_classes=2, random_state=42)\n",
    "\n",
    "# Split dataset into training and testing\n",
    "X_train, X_test, y_train, y_test = train_test_split(X, y, test_size=0.2, random_state=42)\n",
    "\n",
    "# Step 2: Initialize the Decision Tree Classifier\n",
    "dt_classifier = DecisionTreeClassifier(random_state=42)\n",
    "\n",
    "# Step 3: Tune the Model\n",
    "# Define a custom scorer function to maximize PRAUC\n",
    "def pr_auc_scorer(y_true, y_pred):\n",
    "    precision, recall, _ = precision_recall_curve(y_true, y_pred)\n",
    "    return auc(recall, precision)\n",
    "\n",
    "# Custom scorer for GridSearch\n",
    "scorer = make_scorer(pr_auc_scorer, needs_proba=True)\n",
    "\n",
    "# Parameters grid\n",
    "param_grid = {\n",
    "    'max_depth': [None, 10, 20, 30],\n",
    "    'min_samples_split': [2, 5, 10],\n",
    "    'min_samples_leaf': [1, 2, 4]\n",
    "}\n",
    "\n",
    "# Grid search with CV\n",
    "grid_search = GridSearchCV(dt_classifier, param_grid, scoring=scorer, cv=5)\n",
    "grid_search.fit(X_train, y_train)\n",
    "\n",
    "# Best parameters and score\n",
    "best_params = grid_search.best_params_\n",
    "best_score = grid_search.best_score_\n",
    "\n",
    "print(f\"Best Parameters: {best_params}\")\n",
    "print(f\"Best PRAUC Score: {best_score}\")\n",
    "\n",
    "# Step 4: Evaluation on Test Data\n",
    "best_model = grid_search.best_estimator_\n",
    "y_proba = best_model.predict_proba(X_test)[:, 1]  # Get probabilities for the positive class\n",
    "\n",
    "# Calculate PRAUC for the test set\n",
    "test_prauc = pr_auc_scorer(y_test, y_proba)\n",
    "print(f\"Test PRAUC: {test_prauc}\")\n"
   ]
  },
  {
   "cell_type": "code",
   "execution_count": 1,
   "metadata": {},
   "outputs": [
    {
     "data": {
      "image/png": "[encoded data removed]",
      "text/plain": [
       "<Figure size 1000x700 with 1 Axes>"
      ]
     },
     "metadata": {},
     "output_type": "display_data"
    },
    {
     "name": "stdout",
     "output_type": "stream",
     "text": [
      "Silhouette Score: -0.12\n"
     ]
    }
   ],
   "source": [
    "import numpy as np\n",
    "import matplotlib.pyplot as plt\n",
    "from sklearn.datasets import make_classification\n",
    "from sklearn.model_selection import train_test_split\n",
    "from sklearn.preprocessing import StandardScaler\n",
    "from sklearn.cluster import OPTICS\n",
    "from sklearn.metrics import silhouette_score\n",
    "\n",
    "# Generate a synthetic dataset\n",
    "X, y = make_classification(n_samples=1000, n_features=2, n_informative=2, \n",
    "                           n_redundant=0, weights=[0.99], flip_y=0, \n",
    "                           random_state=42)\n",
    "\n",
    "# Split the dataset into training and test sets\n",
    "X_train, X_test, y_train, y_test = train_test_split(X, y, test_size=0.2, random_state=42)\n",
    "\n",
    "# Standardize features by removing the mean and scaling to unit variance\n",
    "scaler = StandardScaler()\n",
    "X_train_scaled = scaler.fit_transform(X_train)\n",
    "X_test_scaled = scaler.transform(X_test)\n",
    "\n",
    "# Apply OPTICS\n",
    "optics = OPTICS(min_samples=10, xi=0.05, min_cluster_size=0.05)\n",
    "optics.fit(X_train_scaled)\n",
    "\n",
    "# Plot the clustering\n",
    "space = np.arange(len(X_train_scaled))\n",
    "reachability = optics.reachability_[optics.ordering_]\n",
    "labels = optics.labels_[optics.ordering_]\n",
    "\n",
    "plt.figure(figsize=(10, 7))\n",
    "colors = ['g.', 'r.', 'b.', 'y.', 'c.']\n",
    "for klass, color in zip(range(0, 5), colors):\n",
    "    Xk = space[labels == klass]\n",
    "    Rk = reachability[labels == klass]\n",
    "    plt.plot(Xk, Rk, color, alpha=0.3)\n",
    "plt.plot(space[labels == -1], reachability[labels == -1], 'k.', alpha=0.3)\n",
    "plt.ylabel('Reachability (epsilon distance)')\n",
    "plt.title('Reachability Plot')\n",
    "plt.show()\n",
    "\n",
    "# Evaluate the clusters\n",
    "print(f\"Silhouette Score: {silhouette_score(X_train_scaled, optics.labels_):.2f}\")\n"
   ]
  },
  {
   "cell_type": "markdown",
   "metadata": {},
   "source": [
    "# 30.0 Regex - Validate credit card numbers"
   ]
  },
  {
   "cell_type": "code",
   "execution_count": null,
   "metadata": {},
   "outputs": [],
   "source": [
    "# Enter your code here. Read input from STDIN. Print output to STDOUT\n",
    "# Enter your code here. Read input from STDIN. Print output to STDOUT\n",
    "import re\n",
    "N = int(input())\n",
    "\n",
    "#print(string)\n",
    "\n",
    "string_list = [input() for i in range(N)]\n",
    "pattern = r\"^[4-6][0-9]{3}(-?[0-9]{4}){3}$\"\n",
    "pattern2 = r\"(\\d)\\1{3}\"\n",
    "\n",
    "\n",
    "\n",
    "[print(\"Valid\") if\n",
    "    all([bool(re.search(pattern, string)),\n",
    "        not bool(\n",
    "            re.search(r\"(\\d)\\1{3}\", \"\".join(re.findall(r\"\\d+\", string))))])\n",
    "    else print(\"Invalid\")\n",
    "    for string in string_list]\n"
   ]
  },
  {
   "cell_type": "markdown",
   "metadata": {},
   "source": [
    "# 31.0 Polar Coordinates"
   ]
  },
  {
   "cell_type": "code",
   "execution_count": 5,
   "metadata": {},
   "outputs": [],
   "source": [
    "from cmath import phase"
   ]
  },
  {
   "cell_type": "code",
   "execution_count": 13,
   "metadata": {},
   "outputs": [
    {
     "data": {
      "text/plain": [
       "(2+3j)"
      ]
     },
     "execution_count": 13,
     "metadata": {},
     "output_type": "execute_result"
    }
   ],
   "source": [
    "c = complex(2+3j)\n",
    "c"
   ]
  },
  {
   "cell_type": "code",
   "execution_count": 14,
   "metadata": {},
   "outputs": [
    {
     "data": {
      "text/plain": [
       "['__abs__',\n",
       " '__add__',\n",
       " '__bool__',\n",
       " '__class__',\n",
       " '__delattr__',\n",
       " '__dir__',\n",
       " '__doc__',\n",
       " '__eq__',\n",
       " '__format__',\n",
       " '__ge__',\n",
       " '__getattribute__',\n",
       " '__getnewargs__',\n",
       " '__gt__',\n",
       " '__hash__',\n",
       " '__init__',\n",
       " '__init_subclass__',\n",
       " '__le__',\n",
       " '__lt__',\n",
       " '__mul__',\n",
       " '__ne__',\n",
       " '__neg__',\n",
       " '__new__',\n",
       " '__pos__',\n",
       " '__pow__',\n",
       " '__radd__',\n",
       " '__reduce__',\n",
       " '__reduce_ex__',\n",
       " '__repr__',\n",
       " '__rmul__',\n",
       " '__rpow__',\n",
       " '__rsub__',\n",
       " '__rtruediv__',\n",
       " '__setattr__',\n",
       " '__sizeof__',\n",
       " '__str__',\n",
       " '__sub__',\n",
       " '__subclasshook__',\n",
       " '__truediv__',\n",
       " 'conjugate',\n",
       " 'imag',\n",
       " 'real']"
      ]
     },
     "execution_count": 14,
     "metadata": {},
     "output_type": "execute_result"
    }
   ],
   "source": [
    "dir(c)"
   ]
  },
  {
   "cell_type": "code",
   "execution_count": 17,
   "metadata": {},
   "outputs": [
    {
     "data": {
      "text/plain": [
       "(2+3j)"
      ]
     },
     "execution_count": 17,
     "metadata": {},
     "output_type": "execute_result"
    }
   ],
   "source": [
    "c"
   ]
  },
  {
   "cell_type": "code",
   "execution_count": 18,
   "metadata": {},
   "outputs": [
    {
     "data": {
      "text/plain": [
       "3.0"
      ]
     },
     "execution_count": 18,
     "metadata": {},
     "output_type": "execute_result"
    }
   ],
   "source": [
    "c.imag"
   ]
  },
  {
   "cell_type": "code",
   "execution_count": 19,
   "metadata": {},
   "outputs": [
    {
     "data": {
      "text/plain": [
       "2.0"
      ]
     },
     "execution_count": 19,
     "metadata": {},
     "output_type": "execute_result"
    }
   ],
   "source": [
    "c.real"
   ]
  },
  {
   "cell_type": "code",
   "execution_count": null,
   "metadata": {},
   "outputs": [],
   "source": [
    "c = complex(input().strip())"
   ]
  },
  {
   "cell_type": "markdown",
   "metadata": {},
   "source": [
    "# 32.0 Combinations with replacement"
   ]
  },
  {
   "cell_type": "code",
   "execution_count": 22,
   "metadata": {},
   "outputs": [
    {
     "name": "stdout",
     "output_type": "stream",
     "text": [
      "aa\n",
      "ac\n",
      "ah\n",
      "ak\n",
      "cc\n",
      "ch\n",
      "ck\n",
      "hh\n",
      "hk\n",
      "kk\n"
     ]
    },
    {
     "data": {
      "text/plain": [
       "[None, None, None, None, None, None, None, None, None, None]"
      ]
     },
     "execution_count": 22,
     "metadata": {},
     "output_type": "execute_result"
    }
   ],
   "source": [
    "# Enter your code here. Read input from STDIN. Print output to STDOUT\n",
    "from itertools import combinations_with_replacement\n",
    "\n",
    "string, k = input().split()\n",
    "k = int(k)\n",
    "\n",
    "[print(\"\".join(j)) for j in combinations_with_replacement(sorted(string), k)]"
   ]
  },
  {
   "cell_type": "markdown",
   "metadata": {},
   "source": [
    "# 33.0 Sets Final"
   ]
  },
  {
   "cell_type": "code",
   "execution_count": 2,
   "metadata": {},
   "outputs": [
    {
     "ename": "ValueError",
     "evalue": "not enough values to unpack (expected 2, got 0)",
     "output_type": "error",
     "traceback": [
      "\u001b[1;31m---------------------------------------------------------------------------\u001b[0m",
      "\u001b[1;31mValueError\u001b[0m                                Traceback (most recent call last)",
      "Cell \u001b[1;32mIn[2], line 2\u001b[0m\n\u001b[0;32m      1\u001b[0m \u001b[38;5;66;03m# Enter your code here. Read input from STDIN. Print output to STDOUT\u001b[39;00m\n\u001b[1;32m----> 2\u001b[0m n, m \u001b[38;5;241m=\u001b[39m \u001b[38;5;28mlist\u001b[39m(\u001b[38;5;28mmap\u001b[39m(\u001b[38;5;28mint\u001b[39m, \u001b[38;5;28minput\u001b[39m()\u001b[38;5;241m.\u001b[39msplit()))\n\u001b[0;32m      3\u001b[0m array \u001b[38;5;241m=\u001b[39m \u001b[38;5;28mlist\u001b[39m(\u001b[38;5;28mmap\u001b[39m(\u001b[38;5;28mint\u001b[39m, \u001b[38;5;28minput\u001b[39m()\u001b[38;5;241m.\u001b[39msplit()))\n\u001b[0;32m      4\u001b[0m A \u001b[38;5;241m=\u001b[39m \u001b[38;5;28mset\u001b[39m(\u001b[38;5;28mmap\u001b[39m(\u001b[38;5;28mint\u001b[39m, \u001b[38;5;28minput\u001b[39m()\u001b[38;5;241m.\u001b[39msplit()))\n",
      "\u001b[1;31mValueError\u001b[0m: not enough values to unpack (expected 2, got 0)"
     ]
    }
   ],
   "source": [
    "# Enter your code here. Read input from STDIN. Print output to STDOUT\n",
    "n, m = list(map(int, input().split()))\n",
    "array = list(map(int, input().split()))\n",
    "A = set(map(int, input().split()))\n",
    "B = set(map(int, input().split()))\n",
    "\n",
    "# happinnes = []\n",
    "# [happinnes.append(1) for i in array if i in A]\n",
    "# [happinnes.append(-1) for i in array if i in B]\n",
    "\n",
    "happy = len([i for i in array if i in A])\n",
    "sad = len([i for i in array if i in B])\n",
    "\n",
    "\n",
    "print(happy-sad)"
   ]
  },
  {
   "cell_type": "code",
   "execution_count": 5,
   "metadata": {},
   "outputs": [
    {
     "data": {
      "text/plain": [
       "[3]"
      ]
     },
     "execution_count": 5,
     "metadata": {},
     "output_type": "execute_result"
    }
   ],
   "source": [
    "li = [1, 3, 6]\n",
    "[sum(1 for _ in li)]"
   ]
  },
  {
   "cell_type": "markdown",
   "metadata": {},
   "source": [
    "# 34.0 itertools groupby"
   ]
  },
  {
   "cell_type": "code",
   "execution_count": null,
   "metadata": {},
   "outputs": [],
   "source": [
    "# Enter your code here. Read input from STDIN. Print output to STDOUT\n",
    "\n",
    "from itertools import groupby\n",
    "\n",
    "# S = input()\n",
    "\n",
    "# lens = [len(list(j)) for k, j in groupby(S, lambda x: x[0])]\n",
    "# groups2 = [int(k) for k, j in groupby(S, lambda x: x[0])]\n",
    "\n",
    "# print(\" \".join(list(map(str, (zip(lens, groups2))))))\n",
    "s = map(int, list(input()))\n",
    "\n",
    "\n",
    "l = [(sum(1 for i in g), k) for k, g in groupby(s)]\n",
    "\n",
    "print(' '.join(map(str, l)))"
   ]
  },
  {
   "cell_type": "markdown",
   "metadata": {},
   "source": [
    "# 35.0 zip and unpack operator"
   ]
  },
  {
   "cell_type": "code",
   "execution_count": 19,
   "metadata": {},
   "outputs": [],
   "source": [
    "grades = [[1, 2, 3], [4, 5, 6]]"
   ]
  },
  {
   "cell_type": "code",
   "execution_count": 18,
   "metadata": {},
   "outputs": [
    {
     "data": {
      "text/plain": [
       "[([1, 2, 3],), ([4, 5, 6],)]"
      ]
     },
     "execution_count": 18,
     "metadata": {},
     "output_type": "execute_result"
    }
   ],
   "source": [
    "list(zip(grades))"
   ]
  },
  {
   "cell_type": "code",
   "execution_count": 20,
   "metadata": {},
   "outputs": [
    {
     "data": {
      "text/plain": [
       "[(1, 4), (2, 5), (3, 6)]"
      ]
     },
     "execution_count": 20,
     "metadata": {},
     "output_type": "execute_result"
    }
   ],
   "source": [
    "list(zip(*grades))\n"
   ]
  },
  {
   "cell_type": "code",
   "execution_count": null,
   "metadata": {},
   "outputs": [],
   "source": [
    "# Enter your code here. Read input from STDIN. Print output to STDOUT\n",
    "from statistics import mean\n",
    "studens, subjects = map(int, input().split())\n",
    "grades = [tuple(map(float, input().split())) for _ in range(subjects)]\n",
    "[print(mean(i)) for i in list(zip(*grades))]"
   ]
  },
  {
   "cell_type": "code",
   "execution_count": 23,
   "metadata": {},
   "outputs": [
    {
     "name": "stdout",
     "output_type": "stream",
     "text": [
      "[0, 1, 2, 3, 4]\n"
     ]
    }
   ],
   "source": [
    "*numbers, = range(5)\n",
    "print(numbers)"
   ]
  },
  {
   "cell_type": "markdown",
   "metadata": {},
   "source": [
    "# 36.0 Eval"
   ]
  },
  {
   "cell_type": "code",
   "execution_count": null,
   "metadata": {},
   "outputs": [],
   "source": [
    "# Enter your code here. Read input from STDIN. Print output to STDOUT\n",
    "x, k = list(map(int, input().split()))\n",
    "p = eval(input()) #evaluate string with globals and locals\n",
    "print(p == k)"
   ]
  },
  {
   "cell_type": "markdown",
   "metadata": {},
   "source": [
    "# 37.0 Any or All"
   ]
  },
  {
   "cell_type": "code",
   "execution_count": null,
   "metadata": {},
   "outputs": [],
   "source": [
    "N = int(input())\n",
    "list_integers = list(input().split())\n",
    "print(all([\n",
    "    all([int(i) > 0 for i in list_integers]),\n",
    "    any([i==\"\".join(reversed(i)) for i in list_integers])\n",
    "]))"
   ]
  },
  {
   "cell_type": "markdown",
   "metadata": {},
   "source": [
    "# 38.0 Detecting Floating Point Number"
   ]
  },
  {
   "cell_type": "code",
   "execution_count": null,
   "metadata": {},
   "outputs": [],
   "source": [
    "import re\n",
    "\n",
    "N = int(input())\n",
    "for _ in range(N):\n",
    "    print(bool(re.search(r'^[+-\\.]{0,1}[0-9]*[.][0-9]+$', input().strip())))"
   ]
  },
  {
   "cell_type": "markdown",
   "metadata": {},
   "source": [
    "# 39.0 Check Invalid Regex"
   ]
  },
  {
   "cell_type": "code",
   "execution_count": null,
   "metadata": {},
   "outputs": [],
   "source": [
    "import re\n",
    "t = int(input())\n",
    "for _ in range(t):\n",
    "    try:\n",
    "        re.compile(input())\n",
    "        print(True)\n",
    "    except re.error:\n",
    "        print(False)"
   ]
  },
  {
   "cell_type": "markdown",
   "metadata": {},
   "source": [
    "# 40.0 Findall and Finditer"
   ]
  },
  {
   "cell_type": "code",
   "execution_count": 6,
   "metadata": {},
   "outputs": [
    {
     "data": {
      "text/plain": [
       "True"
      ]
     },
     "execution_count": 6,
     "metadata": {},
     "output_type": "execute_result"
    }
   ],
   "source": [
    "# Online Python - IDE, Editor, Compiler, Interpreter\n",
    "import re\n",
    "pattern = r\"[qwrtypsdfghjklzxcvbnmQWRTYPSDFGHJKLZXCVBNM][aeiouAEIOU]{2,}[qwrtypsdfghjklzxcvbnmQWRTYPSDFGHJKLZXCVBNM]\"\n",
    "[print(i.group()[1:-1]) for i in re.finditer(pattern, \"rfgt\")]"
   ]
  },
  {
   "cell_type": "code",
   "execution_count": null,
   "metadata": {},
   "outputs": [],
   "source": [
    "# Enter your code here. Read input from STDIN. Print output to STDOUT\n",
    "import re\n",
    "a = re.findall(r\"(?<=[qwrtypsdfghjklzxcvbnmQWRTYPSDFGHJKLZXCVBNM])[aeiouAEIOU]{2,}(?=[qwrtypsdfghjklzxcvbnmQWRTYPSDFGHJKLZXCVBNM])\",\n",
    " input().strip())\n",
    "\n",
    "if a == []:\n",
    "    print(-1)\n",
    "else:\n",
    "    for i in a: print(i)\n",
    "    \n",
    "\n",
    "# groups = re.findall(pattern, input())\n",
    "# if groups != []:\n",
    "#     [print(i) for i in groups]\n",
    "# else:\n",
    "#     print(-1)\n"
   ]
  },
  {
   "cell_type": "code",
   "execution_count": 11,
   "metadata": {},
   "outputs": [
    {
     "data": {
      "text/plain": [
       "['ee', 'ioo', 'oo', 'ee', 'eee']"
      ]
     },
     "execution_count": 11,
     "metadata": {},
     "output_type": "execute_result"
    }
   ],
   "source": [
    "# Online Python - IDE, Editor, Compiler, Interpreter\n",
    "import re\n",
    "pattern = r\"(?<=[qwrtypsdfghjklzxcvbnm])[aeiou]{2,}(?=[qwrtypsdfghjklzxcvbnm])\"\n",
    "\n",
    "\n",
    "\n",
    "re.findall(pattern, \"rabcdeefgyYhFjkioomnpOkoorteeteeet\")"
   ]
  },
  {
   "cell_type": "code",
   "execution_count": 15,
   "metadata": {},
   "outputs": [],
   "source": [
    "li = []\n",
    "for i in li:\n",
    "    print(i==J)"
   ]
  },
  {
   "cell_type": "markdown",
   "metadata": {},
   "source": [
    "# 41.0 Validating phone numbers regex re.search"
   ]
  },
  {
   "cell_type": "code",
   "execution_count": null,
   "metadata": {},
   "outputs": [],
   "source": [
    "# Enter your code here. Read input from STDIN. Print output to STDOUT\n",
    "import re\n",
    "N = int(input())\n",
    "for i in range(N):\n",
    "    print(\"YES\" if bool(re.search(r\"^[789]\\d{9}$\", input())) else \"NO\")"
   ]
  },
  {
   "cell_type": "markdown",
   "metadata": {},
   "source": [
    "# 42.0 Validating emails"
   ]
  },
  {
   "cell_type": "code",
   "execution_count": null,
   "metadata": {},
   "outputs": [],
   "source": [
    "# Enter your code here. Read input from STDIN. Print output to STDOUT\n",
    "import re, email.utils\n",
    "n = int(input())\n",
    "for _ in range(n):\n",
    "    e = input()\n",
    "    e_parsed = email.utils.parseaddr(e)[1]\n",
    "    pattern = r\"^[a-zA-Z][a-zA-Z0-9-._]*@[a-zA-Z]+\\.[a-zA-Z]{1,3}$\"\n",
    "    if re.match(pattern, e_parsed, flags=re.I): \n",
    "        print(e)\n",
    "    else:\n",
    "        pass"
   ]
  },
  {
   "cell_type": "markdown",
   "metadata": {},
   "source": [
    "# 43.0 Decorators"
   ]
  },
  {
   "cell_type": "code",
   "execution_count": 1,
   "metadata": {},
   "outputs": [
    {
     "data": {
      "text/plain": [
       "12"
      ]
     },
     "execution_count": 1,
     "metadata": {},
     "output_type": "execute_result"
    }
   ],
   "source": [
    "import logging\n",
    "\n",
    "def log_function_data(func):\n",
    "    \"\"\"\n",
    "    Decorator to log function calls details.\n",
    "    \"\"\"\n",
    "    def wrapper(*args, **kwargs):\n",
    "        logging.info(f\"Running '{func.__name__}' with arguments {args} and keyword arguments {kwargs}\")\n",
    "        result = func(*args, **kwargs)\n",
    "        logging.info(f\"'{func.__name__}' returned {result}\")\n",
    "        return result\n",
    "    return wrapper\n",
    "\n",
    "# Applying the decorator to a function\n",
    "@log_function_data\n",
    "def add(a, b):\n",
    "    \"\"\"Adds two numbers.\"\"\"\n",
    "    return a + b\n",
    "\n",
    "# Applying the decorator to another function\n",
    "@log_function_data\n",
    "def multiply(a, b):\n",
    "    \"\"\"Multiplies two numbers.\"\"\"\n",
    "    return a * b\n",
    "\n",
    "# Use the decorated functions\n",
    "add(3, 4)\n",
    "multiply(3, 4)\n"
   ]
  },
  {
   "cell_type": "markdown",
   "metadata": {},
   "source": [
    "# 44.0 reshape array"
   ]
  },
  {
   "cell_type": "code",
   "execution_count": null,
   "metadata": {},
   "outputs": [],
   "source": [
    "import numpy\n",
    "\n",
    "inp = numpy.reshape(numpy.array(list(map(int, (input().split())))), (3,3))\n",
    "\n",
    "print(inp)"
   ]
  },
  {
   "cell_type": "markdown",
   "metadata": {},
   "source": [
    "# 45.0 transpose and flatten"
   ]
  },
  {
   "cell_type": "code",
   "execution_count": null,
   "metadata": {},
   "outputs": [],
   "source": [
    "import numpy\n",
    "\n",
    "\n",
    "N, M = list(map(int, input().split()))\n",
    "\n",
    "lists = numpy.array([list(map(int, input().split())) for i in range(N)])\n",
    "\n",
    "\n",
    "\n",
    "print(numpy.transpose(lists))\n",
    "print(lists.flatten())\n"
   ]
  },
  {
   "cell_type": "markdown",
   "metadata": {},
   "source": [
    "# 46.0 Numpy Concatenate"
   ]
  },
  {
   "cell_type": "code",
   "execution_count": null,
   "metadata": {},
   "outputs": [],
   "source": [
    "import numpy\n",
    "\n",
    "N, M, P = list(map(int, input().split()))\n",
    "\n",
    "\n",
    "\n",
    "array1 = numpy.array([list(map(int, input().split())) for i in range(N)])\n",
    "\n",
    "array2 = numpy.array([list(map(int, input().split())) for i in range(M)])\n",
    "\n",
    "\n",
    "print(numpy.concatenate((array1, array2), axis=0))"
   ]
  },
  {
   "cell_type": "markdown",
   "metadata": {},
   "source": [
    "# 47.0 Decorators"
   ]
  },
  {
   "cell_type": "code",
   "execution_count": 8,
   "metadata": {},
   "outputs": [],
   "source": [
    "class Data:\n",
    "    def __init__(self, value):\n",
    "        self.value = value\n",
    "        \n",
    "    def __sub__(self, other):\n",
    "        return Data(self.value - other.value)\n",
    "a = Data(44)\n",
    "b = Data(2)\n",
    "c = a - b\n"
   ]
  },
  {
   "cell_type": "code",
   "execution_count": 11,
   "metadata": {},
   "outputs": [
    {
     "data": {
      "text/plain": [
       "42"
      ]
     },
     "execution_count": 11,
     "metadata": {},
     "output_type": "execute_result"
    }
   ],
   "source": [
    "cucu = a - b\n",
    "cucu.value"
   ]
  },
  {
   "cell_type": "code",
   "execution_count": 16,
   "metadata": {},
   "outputs": [
    {
     "name": "stdout",
     "output_type": "stream",
     "text": [
      "Something is happening before the function is called.\n",
      "Hellu!\n",
      "Something is happening after the function is called.\n"
     ]
    }
   ],
   "source": [
    "def my_decorator(func):\n",
    "    def wrapper():\n",
    "        print(\"Something is happening before the function is called.\")\n",
    "        func()\n",
    "        print(\"Something is happening after the function is called.\")\n",
    "    return wrapper\n",
    "\n",
    "@my_decorator\n",
    "def say_hello():\n",
    "    print(\"Hellu!\")\n",
    "\n",
    "say_hello()\n"
   ]
  },
  {
   "cell_type": "code",
   "execution_count": 18,
   "metadata": {},
   "outputs": [
    {
     "name": "stdout",
     "output_type": "stream",
     "text": [
      "Something is happening before the function is called.\n",
      "Hellu!\n",
      "Something is happening after the function is called.\n"
     ]
    }
   ],
   "source": [
    "say_hello()"
   ]
  },
  {
   "cell_type": "code",
   "execution_count": null,
   "metadata": {},
   "outputs": [],
   "source": [
    "def wrapper(f):\n",
    "    def fun(l):\n",
    "        l = [\"+91\" + i[-10:] for i in l]\n",
    "        l = [f\"{i[:3]} {i[3:8]} {i[8:]}\" for i in l]\n",
    "        print(*sorted(l), sep='\\n')\n",
    "    return fun\n",
    "\n",
    "@wrapper\n",
    "def sort_phone(l):\n",
    "    print(*sorted(l), sep='\\n')\n",
    "\n",
    "if __name__ == '__main__':\n",
    "    l = [input() for _ in range(int(input()))]\n",
    "    sort_phone(l) \n",
    "\n"
   ]
  },
  {
   "cell_type": "markdown",
   "metadata": {},
   "source": [
    "# 48.0 Walrus Operator"
   ]
  },
  {
   "cell_type": "code",
   "execution_count": null,
   "metadata": {},
   "outputs": [],
   "source": [
    "#The walrus operator (:=) can be particularly useful in situations where you need to use a value in a condition and then reuse that same value within the block of code following the condition, "
   ]
  },
  {
   "cell_type": "code",
   "execution_count": 33,
   "metadata": {},
   "outputs": [
    {
     "name": "stdout",
     "output_type": "stream",
     "text": [
      "The first even number is: 6\n"
     ]
    }
   ],
   "source": [
    "# List of numbers\n",
    "numbers = [1, 3, 3, 99, 6, 5]\n",
    "\n",
    "# Using the walrus operator to find the first even number in the list\n",
    "if (n := next((x for x in numbers if x % 2 == 0), None)) is not None:\n",
    "    print(f\"The first even number is: {n}\")\n",
    "else:\n",
    "    print(\"No even number found.\")"
   ]
  },
  {
   "cell_type": "code",
   "execution_count": 31,
   "metadata": {},
   "outputs": [
    {
     "name": "stdout",
     "output_type": "stream",
     "text": [
      "First item: 1\n",
      "Second item: 2\n",
      "Last item before 'No more items': 88\n",
      "4\n",
      "5\n",
      "oo\n",
      "No more items\n"
     ]
    }
   ],
   "source": [
    "# Create an iterator from a list\n",
    "my_list = [1, 2, 88, 4, 5]\n",
    "my_iterator = iter(my_list)\n",
    "\n",
    "# Use next() to get the next item from the iterator\n",
    "first_item = next(my_iterator)\n",
    "print(f\"First item: {first_item}\")\n",
    "\n",
    "# Use next() again to get the next item\n",
    "second_item = next(my_iterator)\n",
    "print(f\"Second item: {second_item}\")\n",
    "\n",
    "# If you keep calling next() and there are no items left, it raises StopIteration.\n",
    "# You can provide a default value to return instead of raising an error.\n",
    "last_item = next(my_iterator, 'No more items')\n",
    "print(f\"Last item before 'No more items': {last_item}\")\n",
    "\n",
    "# After consuming all items\n",
    "no_more_items = next(my_iterator, 'No more items')\n",
    "print(no_more_items)\n",
    "\n",
    "# After consuming all items\n",
    "lala = next(my_iterator, 'No more items')\n",
    "print(lala)\n",
    "\n",
    "\n",
    "# After consuming all items\n",
    "lale = next(my_iterator, 'oo')\n",
    "print(lale)\n",
    "\n",
    "# After consuming all items\n",
    "lale = next(my_iterator, 'No more items')\n",
    "print(lale)\n"
   ]
  },
  {
   "cell_type": "markdown",
   "metadata": {},
   "source": [
    "# 49.0 re.start re.end"
   ]
  },
  {
   "cell_type": "markdown",
   "metadata": {},
   "source": [
    "# 50.0 numpy.linalg.det"
   ]
  },
  {
   "cell_type": "code",
   "execution_count": null,
   "metadata": {},
   "outputs": [],
   "source": [
    "import numpy\n",
    "\n",
    "N = int(input())\n",
    "\n",
    "list_array = numpy.array([list(map(float, input().split())) for i in range(N)])\n",
    "\n",
    "print(round(numpy.linalg.det(list_array), 2))\n",
    "\n"
   ]
  },
  {
   "cell_type": "markdown",
   "metadata": {},
   "source": [
    "# 51.0 Ordered Dict"
   ]
  },
  {
   "cell_type": "code",
   "execution_count": null,
   "metadata": {},
   "outputs": [],
   "source": [
    "# Enter your code here. Read input from STDIN. Print output to STDOUT\n",
    "\n",
    "from collections import Counter, OrderedDict\n",
    "\n",
    "n = int(input())\n",
    "words = [input() for i in range(n)]\n",
    "\n",
    "list_commons = Counter(words).most_common()\n",
    "\n",
    "\n",
    "words_sorted = list(OrderedDict.fromkeys(words))\n",
    "\n",
    "\n",
    "list_commons_sorted = [tuple for x in words_sorted for tuple in list_commons if tuple[0] == x]\n",
    "\n",
    "\n",
    "distinct_elements = len(list_commons)\n",
    "\n",
    "print(distinct_elements)\n",
    "print(*[element[1] for element in list_commons_sorted])"
   ]
  },
  {
   "cell_type": "markdown",
   "metadata": {},
   "source": [
    "# 52.0 Default Dict"
   ]
  },
  {
   "cell_type": "code",
   "execution_count": 2,
   "metadata": {},
   "outputs": [],
   "source": [
    "from collections import defaultdict\n",
    "d = defaultdict(list)\n",
    "d[\"fufu\"] = \"kkkk\""
   ]
  },
  {
   "cell_type": "code",
   "execution_count": 3,
   "metadata": {},
   "outputs": [
    {
     "data": {
      "text/plain": [
       "defaultdict(list, {'fufu': 'kkkk'})"
      ]
     },
     "execution_count": 3,
     "metadata": {},
     "output_type": "execute_result"
    }
   ],
   "source": [
    "d"
   ]
  },
  {
   "cell_type": "code",
   "execution_count": 8,
   "metadata": {},
   "outputs": [
    {
     "data": {
      "text/plain": [
       "'kkkk'"
      ]
     },
     "execution_count": 8,
     "metadata": {},
     "output_type": "execute_result"
    }
   ],
   "source": [
    "d.get(\"fufu\")"
   ]
  },
  {
   "cell_type": "code",
   "execution_count": 10,
   "metadata": {},
   "outputs": [
    {
     "data": {
      "text/plain": [
       "12"
      ]
     },
     "execution_count": 10,
     "metadata": {},
     "output_type": "execute_result"
    }
   ],
   "source": [
    "myString = 'Position of a character'\n",
    "myString.find('a')"
   ]
  },
  {
   "cell_type": "code",
   "execution_count": 14,
   "metadata": {},
   "outputs": [
    {
     "ename": "SyntaxError",
     "evalue": "invalid syntax (3153828296.py, line 1)",
     "output_type": "error",
     "traceback": [
      "\u001b[1;36m  Cell \u001b[1;32mIn[14], line 1\u001b[1;36m\u001b[0m\n\u001b[1;33m    print([pos for pos, char in enumerate(myString) if char == \"a\" else -1])\u001b[0m\n\u001b[1;37m                                                                   ^\u001b[0m\n\u001b[1;31mSyntaxError\u001b[0m\u001b[1;31m:\u001b[0m invalid syntax\n"
     ]
    }
   ],
   "source": [
    "print([pos for pos, char in enumerate(myString) if char == \"a\"])"
   ]
  },
  {
   "cell_type": "code",
   "execution_count": 27,
   "metadata": {},
   "outputs": [
    {
     "data": {
      "text/plain": [
       "Pointe(x=3, y=4)"
      ]
     },
     "execution_count": 27,
     "metadata": {},
     "output_type": "execute_result"
    }
   ],
   "source": [
    "from collections import namedtuple\n",
    "Point = namedtuple('Pointe','x,y')\n",
    "pt1 = Point(1,2)\n",
    "pt2 = Point(3,4)\n",
    "pt2"
   ]
  },
  {
   "cell_type": "code",
   "execution_count": 28,
   "metadata": {},
   "outputs": [
    {
     "data": {
      "text/plain": [
       "3"
      ]
     },
     "execution_count": 28,
     "metadata": {},
     "output_type": "execute_result"
    }
   ],
   "source": [
    "Point(3,5).x"
   ]
  },
  {
   "cell_type": "markdown",
   "metadata": {},
   "source": [
    "# 53.0 NamedTuples"
   ]
  },
  {
   "cell_type": "code",
   "execution_count": null,
   "metadata": {},
   "outputs": [],
   "source": [
    "# Enter your code here. Read input from STDIN. Print output to STDOUT\n",
    "\n",
    "from collections import namedtuple\n",
    "\n",
    "n_students = int(input())\n",
    "columns_names = list(map(str, input().split()))\n",
    "columns_values = [list(map(str, input().split())) for i in range(n_students)]\n",
    "\n",
    "students = namedtuple(\"students\", columns_names)\n",
    "\n",
    "list_tuples = [students(*i) for i in columns_values]\n",
    "\n",
    "marks = [float(i.MARKS) for i in list_tuples]\n",
    "\n",
    "\n",
    "print(sum(marks) /n_students)"
   ]
  },
  {
   "cell_type": "markdown",
   "metadata": {},
   "source": [
    "# 54.0 Decorating Directory Name"
   ]
  },
  {
   "cell_type": "code",
   "execution_count": 32,
   "metadata": {},
   "outputs": [
    {
     "name": "stdout",
     "output_type": "stream",
     "text": [
      "Before calling the function.\n",
      "Hello, world!\n",
      "After calling the function.\n"
     ]
    }
   ],
   "source": [
    "# Define a simple decorator\n",
    "def simple_decorator(func):\n",
    "    def wrapper():\n",
    "        print(\"Before calling the function.\")\n",
    "        func()\n",
    "        print(\"After calling the function.\")\n",
    "    return wrapper\n",
    "\n",
    "# Use the decorator on a function\n",
    "@simple_decorator\n",
    "def say_hello():\n",
    "    print(\"Hello, world!\")\n",
    "\n",
    "# Call the decorated function\n",
    "say_hello()\n"
   ]
  },
  {
   "cell_type": "markdown",
   "metadata": {},
   "source": [
    "# 55.0 Numpy floor, ceil and rint"
   ]
  },
  {
   "cell_type": "code",
   "execution_count": null,
   "metadata": {},
   "outputs": [],
   "source": [
    "import numpy\n",
    "numpy.set_printoptions(legacy=\"1.13\")\n",
    "\n",
    "A = list(map(float, input().split()))\n",
    "\n",
    "print(numpy.floor(A))\n",
    "print(numpy.ceil(A))\n",
    "print(numpy.rint(A))"
   ]
  },
  {
   "cell_type": "markdown",
   "metadata": {},
   "source": [
    "# 56.0 Inner and Outer product"
   ]
  },
  {
   "cell_type": "code",
   "execution_count": null,
   "metadata": {},
   "outputs": [],
   "source": [
    "import numpy\n",
    "\n",
    "A = list(map(int, input().split()))\n",
    "B = list(map(int, input().split()))\n",
    "\n",
    "print(numpy.inner(A, B))\n",
    "print(numpy.outer(A, B))\n",
    "\n"
   ]
  },
  {
   "cell_type": "markdown",
   "metadata": {},
   "source": [
    "# 57. Reduce Function"
   ]
  },
  {
   "cell_type": "code",
   "execution_count": 4,
   "metadata": {},
   "outputs": [
    {
     "ename": "ValueError",
     "evalue": "invalid literal for int() with base 10: ''",
     "output_type": "error",
     "traceback": [
      "\u001b[1;31m---------------------------------------------------------------------------\u001b[0m",
      "\u001b[1;31mValueError\u001b[0m                                Traceback (most recent call last)",
      "Cell \u001b[1;32mIn[4], line 16\u001b[0m\n\u001b[0;32m     14\u001b[0m \u001b[38;5;28;01mif\u001b[39;00m \u001b[38;5;18m__name__\u001b[39m \u001b[38;5;241m==\u001b[39m \u001b[38;5;124m'\u001b[39m\u001b[38;5;124m__main__\u001b[39m\u001b[38;5;124m'\u001b[39m:\n\u001b[0;32m     15\u001b[0m     fracs \u001b[38;5;241m=\u001b[39m []\n\u001b[1;32m---> 16\u001b[0m     \u001b[38;5;28;01mfor\u001b[39;00m _ \u001b[38;5;129;01min\u001b[39;00m \u001b[38;5;28mrange\u001b[39m(\u001b[38;5;28;43mint\u001b[39;49m\u001b[43m(\u001b[49m\u001b[38;5;28;43minput\u001b[39;49m\u001b[43m(\u001b[49m\u001b[43m)\u001b[49m\u001b[43m)\u001b[49m):\n\u001b[0;32m     17\u001b[0m         fracs\u001b[38;5;241m.\u001b[39mappend(Fraction(\u001b[38;5;241m*\u001b[39m\u001b[38;5;28mmap\u001b[39m(\u001b[38;5;28mint\u001b[39m, \u001b[38;5;28minput\u001b[39m()\u001b[38;5;241m.\u001b[39msplit())))\n\u001b[0;32m     18\u001b[0m     result \u001b[38;5;241m=\u001b[39m product(fracs)\n",
      "\u001b[1;31mValueError\u001b[0m: invalid literal for int() with base 10: ''"
     ]
    }
   ],
   "source": [
    "from fractions import Fraction\n",
    "from functools import reduce\n",
    "\n",
    "# n_numbers = int(input())\n",
    "# rational_numbers = [list(map(int, input().split())) for i in range(n_numbers)]\n",
    "# print(rational_numbers)\n",
    "# divided_numbers = [i[0]/i[1] for i in rational_numbers]\n",
    "# print(divided_numbers)\n",
    "\n",
    "def product(fracs):\n",
    "    t = reduce(lambda x, y: x*y, fracs)\n",
    "    return t.numerator, t.denominator\n",
    "\n",
    "if __name__ == '__main__':\n",
    "    fracs = []\n",
    "    for _ in range(int(input())):\n",
    "        fracs.append(Fraction(*map(int, input().split())))\n",
    "    result = product(fracs)\n",
    "    print(*result)"
   ]
  },
  {
   "cell_type": "code",
   "execution_count": 6,
   "metadata": {},
   "outputs": [
    {
     "data": {
      "text/plain": [
       "1"
      ]
     },
     "execution_count": 6,
     "metadata": {},
     "output_type": "execute_result"
    }
   ],
   "source": [
    "Fraction(1,2).numerator"
   ]
  },
  {
   "cell_type": "code",
   "execution_count": 8,
   "metadata": {},
   "outputs": [],
   "source": [
    "for _ in range(int(input())):\n",
    "    fracs.append(Fraction(*map(int, input().split())))"
   ]
  },
  {
   "cell_type": "code",
   "execution_count": 12,
   "metadata": {},
   "outputs": [
    {
     "data": {
      "text/plain": [
       "['__abs__',\n",
       " '__abstractmethods__',\n",
       " '__add__',\n",
       " '__bool__',\n",
       " '__ceil__',\n",
       " '__class__',\n",
       " '__complex__',\n",
       " '__copy__',\n",
       " '__deepcopy__',\n",
       " '__delattr__',\n",
       " '__dir__',\n",
       " '__divmod__',\n",
       " '__doc__',\n",
       " '__eq__',\n",
       " '__float__',\n",
       " '__floor__',\n",
       " '__floordiv__',\n",
       " '__format__',\n",
       " '__ge__',\n",
       " '__getattribute__',\n",
       " '__gt__',\n",
       " '__hash__',\n",
       " '__init__',\n",
       " '__init_subclass__',\n",
       " '__le__',\n",
       " '__lt__',\n",
       " '__mod__',\n",
       " '__module__',\n",
       " '__mul__',\n",
       " '__ne__',\n",
       " '__neg__',\n",
       " '__new__',\n",
       " '__pos__',\n",
       " '__pow__',\n",
       " '__radd__',\n",
       " '__rdivmod__',\n",
       " '__reduce__',\n",
       " '__reduce_ex__',\n",
       " '__repr__',\n",
       " '__rfloordiv__',\n",
       " '__rmod__',\n",
       " '__rmul__',\n",
       " '__round__',\n",
       " '__rpow__',\n",
       " '__rsub__',\n",
       " '__rtruediv__',\n",
       " '__setattr__',\n",
       " '__sizeof__',\n",
       " '__slots__',\n",
       " '__str__',\n",
       " '__sub__',\n",
       " '__subclasshook__',\n",
       " '__truediv__',\n",
       " '__trunc__',\n",
       " '_abc_impl',\n",
       " '_add',\n",
       " '_denominator',\n",
       " '_div',\n",
       " '_divmod',\n",
       " '_floordiv',\n",
       " '_mod',\n",
       " '_mul',\n",
       " '_numerator',\n",
       " '_operator_fallbacks',\n",
       " '_richcmp',\n",
       " '_sub',\n",
       " 'as_integer_ratio',\n",
       " 'conjugate',\n",
       " 'denominator',\n",
       " 'from_decimal',\n",
       " 'from_float',\n",
       " 'imag',\n",
       " 'limit_denominator',\n",
       " 'numerator',\n",
       " 'real']"
      ]
     },
     "execution_count": 12,
     "metadata": {},
     "output_type": "execute_result"
    }
   ],
   "source": [
    "dir(fracs[0])"
   ]
  },
  {
   "cell_type": "markdown",
   "metadata": {},
   "source": [
    "# 58 Sorted Strings"
   ]
  },
  {
   "cell_type": "code",
   "execution_count": null,
   "metadata": {},
   "outputs": [],
   "source": [
    "# # Enter your code here. Read input from STDIN. Print output to STDOUT\n",
    "# string = input()\n",
    "# digits = sorted([i for i in string if i.isdigit()])\n",
    "\n",
    "# print(\"\".join([i for i in sorted(string) if i.islower()] + [i for i in sorted(string) if i.isupper()] + [i for i in digits if int(i) % 2 != 0] + [i for i in digits if int(i) % 2 == 0]))\n",
    "\n",
    "s=input()\n",
    "k=sorted(s, key=lambda x: (\n",
    "         x.isdigit(),\n",
    "         x.isupper(),\n",
    "         x.islower(),\n",
    "         x.isdigit() and int(x) % 2==0,\n",
    "         x\n",
    "         ))\n",
    "k = \"\".join(k)\n",
    "print(k)"
   ]
  },
  {
   "cell_type": "markdown",
   "metadata": {},
   "source": [
    "# 59 Matrix Multiplication"
   ]
  },
  {
   "cell_type": "code",
   "execution_count": 1,
   "metadata": {},
   "outputs": [
    {
     "ename": "ValueError",
     "evalue": "invalid literal for int() with base 10: ''",
     "output_type": "error",
     "traceback": [
      "\u001b[1;31m---------------------------------------------------------------------------\u001b[0m",
      "\u001b[1;31mValueError\u001b[0m                                Traceback (most recent call last)",
      "Cell \u001b[1;32mIn[1], line 4\u001b[0m\n\u001b[0;32m      1\u001b[0m \u001b[38;5;28;01mimport\u001b[39;00m \u001b[38;5;21;01mnumpy\u001b[39;00m\n\u001b[1;32m----> 4\u001b[0m N \u001b[38;5;241m=\u001b[39m \u001b[38;5;28;43mint\u001b[39;49m\u001b[43m(\u001b[49m\u001b[38;5;28;43minput\u001b[39;49m\u001b[43m(\u001b[49m\u001b[43m)\u001b[49m\u001b[43m)\u001b[49m\n\u001b[0;32m      6\u001b[0m A, B \u001b[38;5;241m=\u001b[39m [], []\n\u001b[0;32m      7\u001b[0m \u001b[38;5;28;01mfor\u001b[39;00m _ \u001b[38;5;129;01min\u001b[39;00m \u001b[38;5;28mrange\u001b[39m(N):\n",
      "\u001b[1;31mValueError\u001b[0m: invalid literal for int() with base 10: ''"
     ]
    }
   ],
   "source": [
    "import numpy\n",
    "\n",
    "\n",
    "N = int(input())\n",
    "\n",
    "A, B = [], []\n",
    "for _ in range(N):\n",
    "    A.append(list(map(int, input().split())))\n",
    "for _ in range(N):\n",
    "    B.append(list(map(int, input().split())))\n",
    "print(numpy.matmul(numpy.array(A), numpy.array(B)))"
   ]
  },
  {
   "cell_type": "code",
   "execution_count": 2,
   "metadata": {},
   "outputs": [
    {
     "name": "stdout",
     "output_type": "stream",
     "text": [
      "Collecting sympy\n",
      "  Downloading sympy-1.12-py3-none-any.whl (5.7 MB)\n",
      "     ---------------------------------------- 5.7/5.7 MB 4.2 MB/s eta 0:00:00\n",
      "Collecting mpmath>=0.19\n",
      "  Downloading mpmath-1.3.0-py3-none-any.whl (536 kB)\n",
      "     -------------------------------------- 536.2/536.2 KB 4.2 MB/s eta 0:00:00\n",
      "Installing collected packages: mpmath, sympy\n",
      "Successfully installed mpmath-1.3.0 sympy-1.12\n"
     ]
    },
    {
     "name": "stderr",
     "output_type": "stream",
     "text": [
      "WARNING: You are using pip version 22.0.4; however, version 24.0 is available.\n",
      "You should consider upgrading via the 'P:\\Python\\GitHub\\daily_studies\\env_studies\\Scripts\\python.exe -m pip install --upgrade pip' command.\n"
     ]
    }
   ],
   "source": [
    "!pip install sympy"
   ]
  },
  {
   "cell_type": "code",
   "execution_count": 5,
   "metadata": {},
   "outputs": [
    {
     "data": {
      "image/png": "[encoded data removed]",
      "text/plain": [
       "<Figure size 640x480 with 1 Axes>"
      ]
     },
     "metadata": {},
     "output_type": "display_data"
    },
    {
     "data": {
      "text/plain": [
       "<sympy.plotting.plot.Plot at 0x272d4b1c400>"
      ]
     },
     "execution_count": 5,
     "metadata": {},
     "output_type": "execute_result"
    }
   ],
   "source": [
    "x = symbols('x')\n",
    "f = 2*x + 1\n",
    "plot(f)"
   ]
  },
  {
   "cell_type": "code",
   "execution_count": 3,
   "metadata": {},
   "outputs": [
    {
     "data": {
      "image/png": "[encoded data removed]",
      "text/plain": [
       "<Figure size 640x480 with 1 Axes>"
      ]
     },
     "metadata": {},
     "output_type": "display_data"
    },
    {
     "data": {
      "text/plain": [
       "<sympy.plotting.plot.Plot at 0x272d6ecc5e0>"
      ]
     },
     "execution_count": 3,
     "metadata": {},
     "output_type": "execute_result"
    }
   ],
   "source": [
    "from sympy import *\n",
    "x = symbols('x')\n",
    "f = x**2 + 1\n",
    "plot(f)"
   ]
  },
  {
   "cell_type": "code",
   "execution_count": 8,
   "metadata": {},
   "outputs": [
    {
     "data": {
      "image/png": "[encoded data removed]",
      "text/plain": [
       "<Figure size 640x480 with 1 Axes>"
      ]
     },
     "metadata": {},
     "output_type": "display_data"
    },
    {
     "data": {
      "text/plain": [
       "<sympy.plotting.plot.Plot at 0x272e95fa140>"
      ]
     },
     "execution_count": 8,
     "metadata": {},
     "output_type": "execute_result"
    }
   ],
   "source": [
    "f = log(x)\n",
    "plot(f)"
   ]
  },
  {
   "cell_type": "code",
   "execution_count": 6,
   "metadata": {},
   "outputs": [
    {
     "name": "stdout",
     "output_type": "stream",
     "text": [
      "30\n"
     ]
    }
   ],
   "source": [
    "i,n = symbols('i n')\n",
    "# iterate each element i from 1 to n,\n",
    "# then multiply and sum\n",
    "summation = Sum(2*i,(i,1,n))\n",
    "# specify n as 5,\n",
    "# iterating the numbers 1 through 5\n",
    "up_to_5 = summation.subs(n, 5)\n",
    "print(up_to_5.doit()) # 30"
   ]
  },
  {
   "cell_type": "code",
   "execution_count": null,
   "metadata": {},
   "outputs": [],
   "source": [
    "class Solution:\n",
    "    def romanToInt(self, s: str) -> int:\n",
    "        dict_numbers = {\n",
    "        \"I\":1,\n",
    "        \"V\":5,\n",
    "        \"X\":10,\n",
    "        \"L\":50,\n",
    "        \"C\":100,\n",
    "        \"D\":500,\n",
    "        \"M\":1000}\n",
    "        return print(sum([dict_numbers[i] for i in s]))\n"
   ]
  },
  {
   "cell_type": "code",
   "execution_count": null,
   "metadata": {},
   "outputs": [],
   "source": [
    "class EvenStream(object):\n",
    "    def __init__(self):\n",
    "        self.current = 0\n",
    "\n",
    "    def get_next(self):\n",
    "        to_return = self.current\n",
    "        self.current += 2\n",
    "        return to_return\n",
    "\n",
    "class OddStream(object):\n",
    "    def __init__(self):\n",
    "        self.current = 1\n",
    "\n",
    "    def get_next(self):\n",
    "        to_return = self.current\n",
    "        self.current += 2\n",
    "        return to_return\n",
    "\n",
    "def print_from_stream(n, stream=None):\n",
    "    if stream is None:\n",
    "        stream = EvenStream()\n",
    "    for _ in range(n):\n",
    "        print(stream.get_next())\n",
    "\n",
    "\n",
    "\n",
    "queries = int(input())\n",
    "for _ in range(queries):\n",
    "    stream_name, n = input().split()\n",
    "    n = int(n)\n",
    "    if stream_name == \"even\":\n",
    "        print_from_stream(n)\n",
    "    else:\n",
    "        print_from_stream(n, OddStream())\n"
   ]
  },
  {
   "cell_type": "code",
   "execution_count": null,
   "metadata": {},
   "outputs": [],
   "source": [
    "class Solution:\n",
    "    def romanToInt(self, s: str) -> int:\n",
    "        roman = {'I': 1, 'V': 5, 'X': 10, 'L': 50, 'C': 100, 'D': 500, 'M': 1000}\n",
    "        total = 0\n",
    "        previous = 0\n",
    "        for i in reversed(s):\n",
    "            if roman[i]>=previous:\n",
    "                total += roman[i]\n",
    "            else:\n",
    "                total -= roman[i]\n",
    "            previous = roman[i]\n",
    "        return total\n"
   ]
  },
  {
   "cell_type": "code",
   "execution_count": 4,
   "metadata": {},
   "outputs": [
    {
     "data": {
      "text/plain": [
       "''"
      ]
     },
     "execution_count": 4,
     "metadata": {},
     "output_type": "execute_result"
    }
   ],
   "source": [
    "st = \"abracadabra\"\n",
    "st = \"\"\n",
    "st[:1]"
   ]
  },
  {
   "cell_type": "code",
   "execution_count": 8,
   "metadata": {},
   "outputs": [
    {
     "name": "stdout",
     "output_type": "stream",
     "text": [
      "num e\n"
     ]
    }
   ],
   "source": [
    "if not \"\":\n",
    "    print(\"num e\")"
   ]
  },
  {
   "cell_type": "code",
   "execution_count": 11,
   "metadata": {},
   "outputs": [
    {
     "data": {
      "text/plain": [
       "False"
      ]
     },
     "execution_count": 11,
     "metadata": {},
     "output_type": "execute_result"
    }
   ],
   "source": [
    "False == \"\""
   ]
  },
  {
   "cell_type": "code",
   "execution_count": 12,
   "metadata": {},
   "outputs": [
    {
     "name": "stdout",
     "output_type": "stream",
     "text": [
      "3\n",
      "1\n"
     ]
    },
    {
     "data": {
      "text/plain": [
       "[None, None]"
      ]
     },
     "execution_count": 12,
     "metadata": {},
     "output_type": "execute_result"
    }
   ],
   "source": [
    "diquin = {3:5, 1:2}\n",
    "[print(i) for i in diquin]"
   ]
  },
  {
   "cell_type": "code",
   "execution_count": 22,
   "metadata": {},
   "outputs": [
    {
     "data": {
      "text/plain": [
       "[3]"
      ]
     },
     "execution_count": 22,
     "metadata": {},
     "output_type": "execute_result"
    }
   ],
   "source": [
    "x = [2,3,4]\n",
    "x[1:-1]"
   ]
  },
  {
   "cell_type": "code",
   "execution_count": 25,
   "metadata": {},
   "outputs": [
    {
     "name": "stdout",
     "output_type": "stream",
     "text": [
      "30\n"
     ]
    }
   ],
   "source": [
    "i,n = symbols('i n')\n",
    "# iterate each element i from 1 to n,\n",
    "# then multiply and sum\n",
    "summation = Sum(2*i,(i,1,n))\n",
    "# specify n as 5,\n",
    "# iterating the numbers 1 through 5\n",
    "up_to_5 = summation.subs(n, 5)\n",
    "print(up_to_5.doit())"
   ]
  },
  {
   "cell_type": "code",
   "execution_count": 28,
   "metadata": {},
   "outputs": [
    {
     "data": {
      "text/plain": [
       "4294967296"
      ]
     },
     "execution_count": 28,
     "metadata": {},
     "output_type": "execute_result"
    }
   ],
   "source": [
    "1 << 32"
   ]
  },
  {
   "cell_type": "markdown",
   "metadata": {},
   "source": [
    "# 60.0 Binomial from scratch"
   ]
  },
  {
   "cell_type": "code",
   "execution_count": 29,
   "metadata": {},
   "outputs": [
    {
     "data": {
      "text/plain": [
       "6"
      ]
     },
     "execution_count": 29,
     "metadata": {},
     "output_type": "execute_result"
    }
   ],
   "source": [
    "def factorial(n: int):\n",
    "    f=1\n",
    "    for i in range(n):\n",
    "        f *= (i + 1)\n",
    "    return f\n",
    "\n",
    "factorial(3)"
   ]
  },
  {
   "cell_type": "code",
   "execution_count": 30,
   "metadata": {},
   "outputs": [
    {
     "data": {
      "text/plain": [
       "10.0"
      ]
     },
     "execution_count": 30,
     "metadata": {},
     "output_type": "execute_result"
    }
   ],
   "source": [
    "def binomial_coefficients(n: int, k: int):\n",
    "    return factorial(n)/ (factorial(k)*factorial(n-k))\n",
    "\n",
    "binomial_coefficients(n=5, k=2)"
   ]
  },
  {
   "cell_type": "code",
   "execution_count": 40,
   "metadata": {},
   "outputs": [
    {
     "data": {
      "text/plain": [
       "0.04958507128101913"
      ]
     },
     "execution_count": 40,
     "metadata": {},
     "output_type": "execute_result"
    }
   ],
   "source": [
    "from scipy.stats import binom\n",
    "n = 137\n",
    "p = 0.4\n",
    "probability = binom.pmf(50, n, p)\n",
    "probability"
   ]
  },
  {
   "cell_type": "markdown",
   "metadata": {},
   "source": [
    "# 61.0 Leap year"
   ]
  },
  {
   "cell_type": "code",
   "execution_count": 1,
   "metadata": {},
   "outputs": [
    {
     "ename": "ValueError",
     "evalue": "invalid literal for int() with base 10: ''",
     "output_type": "error",
     "traceback": [
      "\u001b[1;31m---------------------------------------------------------------------------\u001b[0m",
      "\u001b[1;31mValueError\u001b[0m                                Traceback (most recent call last)",
      "Cell \u001b[1;32mIn[1], line 11\u001b[0m\n\u001b[0;32m      7\u001b[0m         \u001b[38;5;28;01mpass\u001b[39;00m\n\u001b[0;32m      9\u001b[0m     \u001b[38;5;28;01mreturn\u001b[39;00m leap\n\u001b[1;32m---> 11\u001b[0m year \u001b[38;5;241m=\u001b[39m \u001b[38;5;28;43mint\u001b[39;49m\u001b[43m(\u001b[49m\u001b[38;5;28;43minput\u001b[39;49m\u001b[43m(\u001b[49m\u001b[43m)\u001b[49m\u001b[43m)\u001b[49m\n",
      "\u001b[1;31mValueError\u001b[0m: invalid literal for int() with base 10: ''"
     ]
    }
   ],
   "source": [
    "def is_leap(year):\n",
    "    leap = False\n",
    "    \n",
    "    if year % 400 == 0 or (year % 100 != 0 and year % 4 == 0):\n",
    "        leap=True\n",
    "    else:\n",
    "        pass\n",
    "        \n",
    "    return leap\n",
    "\n",
    "year = int(input())"
   ]
  },
  {
   "cell_type": "markdown",
   "metadata": {},
   "source": [
    "# 62.0 Ordered Dict"
   ]
  },
  {
   "cell_type": "code",
   "execution_count": null,
   "metadata": {},
   "outputs": [],
   "source": [
    "# Enter your code here. Read input from STDIN. Print output to STDOUT\n",
    "from collections import OrderedDict\n",
    "\n",
    "ordered_dict, trials = OrderedDict(), int(input())\n",
    "for _ in range(trials):\n",
    "    inps = input().strip().split()\n",
    "    item_name, net_price = \" \".join(inps[:-1]), int(inps[-1])\n",
    "    try:\n",
    "        ordered_dict[item_name] += net_price\n",
    "    except KeyError:\n",
    "        ordered_dict[item_name] = net_price\n",
    "for j in ordered_dict.items():\n",
    "    print(*j)"
   ]
  },
  {
   "cell_type": "markdown",
   "metadata": {},
   "source": [
    "# 63.0 Zeros and Ones"
   ]
  },
  {
   "cell_type": "code",
   "execution_count": 12,
   "metadata": {},
   "outputs": [
    {
     "data": {
      "text/plain": [
       "4"
      ]
     },
     "execution_count": 12,
     "metadata": {},
     "output_type": "execute_result"
    }
   ],
   "source": [
    "stri.index(\"D\")"
   ]
  },
  {
   "cell_type": "code",
   "execution_count": 6,
   "metadata": {},
   "outputs": [
    {
     "data": {
      "text/plain": [
       "['A', 'A', 'A', 'B', 'D', 'D']"
      ]
     },
     "execution_count": 6,
     "metadata": {},
     "output_type": "execute_result"
    }
   ],
   "source": [
    "stri = \"AAABDD\"\n",
    "sorted(stri, key=stri.index)"
   ]
  },
  {
   "cell_type": "code",
   "execution_count": null,
   "metadata": {},
   "outputs": [],
   "source": [
    "import numpy\n",
    "\n",
    "\n",
    "inputs = list(map(int, input().split()))\n",
    "\n",
    "\n",
    "print(numpy.zeros((inputs), dtype=int))\n",
    "print(numpy.ones((inputs), dtype=int))"
   ]
  },
  {
   "cell_type": "code",
   "execution_count": 14,
   "metadata": {},
   "outputs": [],
   "source": [
    "string = \"AABCAAADA\"\n",
    "k = 3\n",
    "\n",
    "\n",
    "strings_splits = list(map(''.join, zip(*[iter(string)]*k)))"
   ]
  },
  {
   "cell_type": "code",
   "execution_count": 25,
   "metadata": {},
   "outputs": [
    {
     "name": "stdout",
     "output_type": "stream",
     "text": [
      "<str_iterator object at 0x000002318CB771F0> <str_iterator object at 0x000002318CB771F0> <str_iterator object at 0x000002318CB771F0>\n"
     ]
    }
   ],
   "source": [
    "print(*[iter(string)]*3)"
   ]
  },
  {
   "cell_type": "code",
   "execution_count": 28,
   "metadata": {},
   "outputs": [
    {
     "data": {
      "text/plain": [
       "'A'"
      ]
     },
     "execution_count": 28,
     "metadata": {},
     "output_type": "execute_result"
    }
   ],
   "source": [
    "ii = iter(string)\n",
    "next(ii)"
   ]
  }
 ],
 "metadata": {
  "kernelspec": {
   "display_name": "env_studies",
   "language": "python",
   "name": "python3"
  },
  "language_info": {
   "codemirror_mode": {
    "name": "ipython",
    "version": 3
   },
   "file_extension": ".py",
   "mimetype": "text/x-python",
   "name": "python",
   "nbconvert_exporter": "python",
   "pygments_lexer": "ipython3",
   "version": "3.10.4"
  }
 },
 "nbformat": 4,
 "nbformat_minor": 2
}
