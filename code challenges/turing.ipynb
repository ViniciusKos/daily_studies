{
 "cells": [
  {
   "cell_type": "code",
   "execution_count": 21,
   "metadata": {},
   "outputs": [
    {
     "data": {
      "text/plain": [
       "(49689.77953141087, 40635, -9054.779531410873)"
      ]
     },
     "execution_count": 21,
     "metadata": {},
     "output_type": "execute_result"
    }
   ],
   "source": [
    "from scipy.optimize import curve_fit\n",
    "import numpy as np\n",
    "import pandas as pd\n",
    "\n",
    "df = pd.read_csv(\"covid_data.csv\")\n",
    "italy_data = df[df[\"location\"]==\"Italy\"]\n",
    "italy_data = italy_data.sort_values(\"date\", ascending = True)\n",
    "\n",
    "\n",
    "\n",
    "# Filtering the data for Italy between 2020-02-28 and 2020-03-20\n",
    "italy_specific_period = italy_data.copy()\n",
    "italy_specific_period = italy_specific_period[(italy_specific_period['date'] >= '2020-02-28') & (italy_specific_period['date'] <= '2020-03-20')]\n",
    "\n",
    "italy_specific_period[\"total_cases\"] = italy_specific_period[\"new_cases\"].cumsum()\n",
    "\n",
    "\n",
    "# Extracting the total cases and the corresponding dates\n",
    "dates = italy_specific_period['date']\n",
    "total_cases = italy_specific_period['total_cases']\n",
    "\n",
    "# Defining the exponential function to fit\n",
    "def exponential_func(x, a, b):\n",
    "    return a * np.exp(b * x)\n",
    "\n",
    "# Converting dates to a numerical format (days since the start date)\n",
    "days_since_start = (pd.to_datetime(dates) - pd.to_datetime('2020-02-28')).dt.days\n",
    "\n",
    "# Fitting the exponential function to the data\n",
    "params, _ = curve_fit(exponential_func, days_since_start, total_cases, method=\"lm\")\n",
    "\n",
    "# Predicting total cases on 2020-03-20 using the fitted exponential function\n",
    "day_to_predict = (pd.to_datetime('2020-03-20') - pd.to_datetime('2020-02-28')).days+1\n",
    "predicted_cases = exponential_func(day_to_predict, *params)\n",
    "\n",
    "# Actual total cases on 2020-03-20\n",
    "actual_cases = italy_specific_period[italy_specific_period['date'] == '2020-03-20']['total_cases'].values[0]\n",
    "\n",
    "# Calculating the difference\n",
    "difference = actual_cases - predicted_cases\n",
    "predicted_cases, actual_cases, difference\n"
   ]
  },
  {
   "cell_type": "code",
   "execution_count": 20,
   "metadata": {},
   "outputs": [
    {
     "data": {
      "text/plain": [
       "21"
      ]
     },
     "execution_count": 20,
     "metadata": {},
     "output_type": "execute_result"
    }
   ],
   "source": [
    "day_to_predict"
   ]
  },
  {
   "cell_type": "code",
   "execution_count": 22,
   "metadata": {},
   "outputs": [],
   "source": [
    "new_covid_data = pd.read_csv(f\"covid_data.csv\")\n",
    "\n",
    "# Getting the latest data for each country to represent the current state\n",
    "latest_new_data = new_covid_data.groupby('location').last()"
   ]
  },
  {
   "cell_type": "code",
   "execution_count": null,
   "metadata": {},
   "outputs": [],
   "source": []
  }
 ],
 "metadata": {
  "kernelspec": {
   "display_name": "env_studies",
   "language": "python",
   "name": "python3"
  },
  "language_info": {
   "codemirror_mode": {
    "name": "ipython",
    "version": 3
   },
   "file_extension": ".py",
   "mimetype": "text/x-python",
   "name": "python",
   "nbconvert_exporter": "python",
   "pygments_lexer": "ipython3",
   "version": "3.10.4"
  }
 },
 "nbformat": 4,
 "nbformat_minor": 2
}
