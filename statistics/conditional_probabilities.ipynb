{
 "cells": [
  {
   "cell_type": "raw",
   "metadata": {},
   "source": [
    "Consider a dataset from a medical study evaluating a new diagnostic test for a disease. The test has a sensitivity (true positive rate) of 90%\n",
    " and a specificity (true negative rate) of 85%. If 1% of the population has this disease, and a patient receives a positive test result, what is \n",
    " the probability that the patient actually has the disease? Explain your reasoning process."
   ]
  },
  {
   "cell_type": "raw",
   "metadata": {},
   "source": [
    "P(A|B) = P(B|A) * P(A) / P(B)\n",
    "\n",
    "P(A) = disease\n",
    "P(B) = tested_positive\n",
    "P(B|A) = evidence i.e tested positive nad has disease = true positive hate"
   ]
  },
  {
   "cell_type": "code",
   "execution_count": 20,
   "metadata": {},
   "outputs": [],
   "source": [
    "PA = 0.01\n",
    "PB = (0.90*0.01 + 0.15*0.99)\n",
    "PBA = 0.90"
   ]
  },
  {
   "cell_type": "code",
   "execution_count": 21,
   "metadata": {},
   "outputs": [
    {
     "data": {
      "text/plain": [
       "0.05714285714285715"
      ]
     },
     "execution_count": 21,
     "metadata": {},
     "output_type": "execute_result"
    }
   ],
   "source": [
    "#plug and chug bayes\n",
    "\n",
    "PAB = (PBA * PA) / PB\n",
    "PAB"
   ]
  },
  {
   "cell_type": "code",
   "execution_count": 24,
   "metadata": {},
   "outputs": [
    {
     "data": {
      "text/plain": [
       "0.1575"
      ]
     },
     "execution_count": 24,
     "metadata": {},
     "output_type": "execute_result"
    }
   ],
   "source": [
    "PB"
   ]
  },
  {
   "cell_type": "code",
   "execution_count": 25,
   "metadata": {},
   "outputs": [
    {
     "data": {
      "text/plain": [
       "0.05714285714285715"
      ]
     },
     "execution_count": 25,
     "metadata": {},
     "output_type": "execute_result"
    }
   ],
   "source": [
    "PAB"
   ]
  },
  {
   "cell_type": "code",
   "execution_count": null,
   "metadata": {},
   "outputs": [],
   "source": []
  }
 ],
 "metadata": {
  "kernelspec": {
   "display_name": "env_studies",
   "language": "python",
   "name": "python3"
  },
  "language_info": {
   "codemirror_mode": {
    "name": "ipython",
    "version": 3
   },
   "file_extension": ".py",
   "mimetype": "text/x-python",
   "name": "python",
   "nbconvert_exporter": "python",
   "pygments_lexer": "ipython3",
   "version": "3.10.4"
  }
 },
 "nbformat": 4,
 "nbformat_minor": 2
}
