{
 "cells": [
  {
   "cell_type": "code",
   "execution_count": null,
   "metadata": {},
   "outputs": [],
   "source": [
    "import pandas as pd\n",
    "import scipy.stats as stats\n",
    "\n",
    "# Assuming you have a DataFrame 'df' with columns: \"customerid\", \"Month of Reference\", \"CLTV Before\", \"CLTV After\"\n",
    "\n",
    "# Example DataFrame (you would replace this with your actual data)\n",
    "data = {\n",
    "    'customerid': [1, 2, 3, 4, 5],\n",
    "    'Month of Reference': ['2021-01', '2021-01', '2021-01', '2021-01', '2021-01'],\n",
    "    'CLTV Before': [100, 200, 150, 300, 250],\n",
    "    'CLTV After': [120, 210, 155, 310, 265]\n",
    "}\n",
    "df = pd.DataFrame(data)\n",
    "\n",
    "# Calculate the difference in CLTV\n",
    "df['CLTV Difference'] = df['CLTV After'] - df['CLTV Before']\n",
    "\n",
    "# Perform a Paired T-Test\n",
    "t_statistic, p_value = stats.ttest_rel(df['CLTV After'], df['CLTV Before'])\n",
    "\n",
    "print(\"T-Statistic:\", t_statistic)\n",
    "print(\"P-Value:\", p_value)\n",
    "\n",
    "# Interpretation\n",
    "alpha = 0.05  # Significance level\n",
    "if p_value < alpha:\n",
    "    print(\"There is a statistically significant difference in CLTV.\")\n",
    "else:\n",
    "    print(\"There is no statistically significant difference in CLTV.\")\n",
    "\n"
   ]
  }
 ],
 "metadata": {
  "kernelspec": {
   "display_name": "env_studies",
   "language": "python",
   "name": "python3"
  },
  "language_info": {
   "codemirror_mode": {
    "name": "ipython",
    "version": 3
   },
   "file_extension": ".py",
   "mimetype": "text/x-python",
   "name": "python",
   "nbconvert_exporter": "python",
   "pygments_lexer": "ipython3",
   "version": "3.10.4"
  }
 },
 "nbformat": 4,
 "nbformat_minor": 2
}
