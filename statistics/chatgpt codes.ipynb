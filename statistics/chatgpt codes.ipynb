{
 "cells": [
  {
   "cell_type": "code",
   "execution_count": 12,
   "metadata": {},
   "outputs": [],
   "source": [
    "import pandas as pd\n",
    "import seaborn as sns\n",
    "import scipy.stats as stats\n",
    "import matplotlib.pyplot as plt\n",
    "import numpy as np\n",
    "import random"
   ]
  },
  {
   "cell_type": "code",
   "execution_count": 23,
   "metadata": {},
   "outputs": [
    {
     "name": "stdout",
     "output_type": "stream",
     "text": [
      "1\n"
     ]
    },
    {
     "data": {
      "text/plain": [
       "[0]"
      ]
     },
     "execution_count": 23,
     "metadata": {},
     "output_type": "execute_result"
    }
   ],
   "source": [
    "print(len(np.arange(0,1,100)))\n",
    "len(np.random.normal(90,10,100))\n",
    "[i for i in np.arange(0,1,100)]"
   ]
  },
  {
   "cell_type": "code",
   "execution_count": 25,
   "metadata": {},
   "outputs": [
    {
     "name": "stdout",
     "output_type": "stream",
     "text": [
      "T-Statistic: -6.41743139834302\n",
      "P-Value: 4.8048024720174946e-09\n",
      "There is a statistically significant difference in CLTV.\n"
     ]
    }
   ],
   "source": [
    "\n",
    "# Assuming you have a DataFrame 'df' with columns: \"customerid\", \"Month of Reference\", \"CLTV Before\", \"CLTV After\"\n",
    "\n",
    "# Example DataFrame (you would replace this with your actual data)\n",
    "data = {\n",
    "    'customerid': [1, 2, 3, 4, 5],\n",
    "    'Month of Reference': ['2021-01', '2021-01', '2021-01', '2021-01', '2021-01'],\n",
    "    'CLTV Before': [100, 200, 150, 300, 250],\n",
    "    'CLTV After': [120, 210, 155, 310, 265]\n",
    "}\n",
    "\n",
    "data = {\n",
    "\n",
    "    'CLTV Before': np.random.normal(100,10,100),\n",
    "    'CLTV After': np.random.normal(90,10,100)\n",
    "}\n",
    "\n",
    "\n",
    "\n",
    "df = pd.DataFrame(data)\n",
    "\n",
    "# Calculate the difference in CLTV\n",
    "df['CLTV Difference'] = df['CLTV After'] - df['CLTV Before']\n",
    "\n",
    "# Perform a Paired T-Test\n",
    "t_statistic, p_value = stats.ttest_rel(df['CLTV After'], df['CLTV Before'])\n",
    "\n",
    "print(\"T-Statistic:\", t_statistic)\n",
    "print(\"P-Value:\", p_value)\n",
    "\n",
    "# Interpretation\n",
    "alpha = 0.05  # Significance level\n",
    "if p_value < alpha:\n",
    "    print(\"There is a statistically significant difference in CLTV.\")\n",
    "else:\n",
    "    print(\"There is no statistically significant difference in CLTV.\")\n",
    "\n"
   ]
  },
  {
   "cell_type": "code",
   "execution_count": 26,
   "metadata": {},
   "outputs": [
    {
     "data": {
      "text/plain": [
       "<Axes: xlabel='CLTV Difference', ylabel='Count'>"
      ]
     },
     "execution_count": 26,
     "metadata": {},
     "output_type": "execute_result"
    },
    {
     "data": {
      "image/png": "[encoded data removed]",
      "text/plain": [
       "<Figure size 640x480 with 1 Axes>"
      ]
     },
     "metadata": {},
     "output_type": "display_data"
    }
   ],
   "source": [
    "\n",
    "\n",
    "# Continuing from the previous analysis\n",
    "\n",
    "# Calculating the 95% confidence interval for the difference\n",
    "mean_difference = df['CLTV Difference'].mean()\n",
    "std_dev_difference = df['CLTV Difference'].std(ddof=1)\n",
    "n = len(df)\n",
    "\n",
    "# Standard error of the mean difference\n",
    "sem = std_dev_difference / np.sqrt(n)\n",
    "\n",
    "# t-critical value for 95% confidence\n",
    "t_critical = stats.t.ppf(1 - 0.05 / 2, df=n-1)\n",
    "\n",
    "# Margin of error\n",
    "margin_of_error = t_critical * sem\n",
    "\n",
    "# Confidence interval\n",
    "confidence_interval = (mean_difference - margin_of_error, mean_difference + margin_of_error)\n",
    "\n",
    "sns.histplot(df[\"CLTV Difference\"], bins = 10)"
   ]
  },
  {
   "cell_type": "code",
   "execution_count": null,
   "metadata": {},
   "outputs": [],
   "source": []
  }
 ],
 "metadata": {
  "kernelspec": {
   "display_name": "env_studies",
   "language": "python",
   "name": "python3"
  },
  "language_info": {
   "codemirror_mode": {
    "name": "ipython",
    "version": 3
   },
   "file_extension": ".py",
   "mimetype": "text/x-python",
   "name": "python",
   "nbconvert_exporter": "python",
   "pygments_lexer": "ipython3",
   "version": "3.10.4"
  }
 },
 "nbformat": 4,
 "nbformat_minor": 2
}
