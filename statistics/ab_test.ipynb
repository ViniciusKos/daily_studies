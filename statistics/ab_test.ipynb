{
  "cells": [
    {
      "cell_type": "code",
      "execution_count": 1,
      "metadata": {
        "id": "6zLaJivGNOeq"
      },
      "outputs": [],
      "source": [
        "import numpy as np\n",
        "import matplotlib.pyplot as plt"
      ]
    },
    {
      "cell_type": "code",
      "source": [
        "print(\"hello\")"
      ],
      "metadata": {
        "colab": {
          "base_uri": "https://localhost:8080/"
        },
        "id": "LGp1DA_yNSVb",
        "outputId": "a2c2324b-1bd0-404c-d974-e2f934427d0b"
      },
      "execution_count": 2,
      "outputs": [
        {
          "output_type": "stream",
          "name": "stdout",
          "text": [
            "hello\n"
          ]
        }
      ]
    },
    {
      "cell_type": "code",
      "source": [
        "class EpsilonGreedy():\n",
        "  def __init__(self, epsilon, counts, values):\n",
        "    self.epsilon = epsilon\n",
        "    self.counts = counts\n",
        "    self.values = values\n",
        "    return\n",
        "  def initialize(self, n_arms):\n",
        "    self.counts = [0 for col in range(n_arms)]\n",
        "    self.values = [0.0 for col in range(n_arms)]\n",
        "    return"
      ],
      "metadata": {
        "id": "PgjMEU3ANU7P"
      },
      "execution_count": 4,
      "outputs": []
    },
    {
      "cell_type": "code",
      "source": [],
      "metadata": {
        "id": "OsiMerUAN3bx"
      },
      "execution_count": null,
      "outputs": []
    }
  ],
  "metadata": {
    "kernelspec": {
      "display_name": "env_studies",
      "language": "python",
      "name": "python3"
    },
    "language_info": {
      "codemirror_mode": {
        "name": "ipython",
        "version": 3
      },
      "file_extension": ".py",
      "mimetype": "text/x-python",
      "name": "python",
      "nbconvert_exporter": "python",
      "pygments_lexer": "ipython3",
      "version": "3.10.4"
    },
    "colab": {
      "provenance": []
    }
  },
  "nbformat": 4,
  "nbformat_minor": 0
}