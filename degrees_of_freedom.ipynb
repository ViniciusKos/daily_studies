{
 "cells": [
  {
   "cell_type": "code",
   "execution_count": 1,
   "metadata": {},
   "outputs": [
    {
     "data": {
      "text/plain": [
       "(-9.609604833377862, -0.390395166622139)"
      ]
     },
     "execution_count": 1,
     "metadata": {},
     "output_type": "execute_result"
    }
   ],
   "source": [
    "# Confidence interval\n",
    "\n",
    "# Parameters for Group A and Group B\n",
    "mean_a = 50  # Mean of Group A\n",
    "sd_a = 10    # Standard Deviation of Group A\n",
    "n_a = 40     # Sample Size of Group A\n",
    "\n",
    "mean_b = 55  # Mean of Group B\n",
    "sd_b = 12    # Standard Deviation of Group B\n",
    "n_b = 50     # Sample Size of Group B\n",
    "\n",
    "# Calculate the standard error of the difference in means\n",
    "se_diff = ((sd_a**2 / n_a) + (sd_b**2 / n_b)) ** 0.5\n",
    "\n",
    "# Degrees of freedom using the Welch-Satterthwaite equation\n",
    "df = ((sd_a**2 / n_a + sd_b**2 / n_b)**2) / (((sd_a**2 / n_a)**2 / (n_a - 1)) + ((sd_b**2 / n_b)**2 / (n_b - 1)))\n",
    "\n",
    "# 95% confidence level\n",
    "confidence_level = 0.95\n",
    "\n",
    "# Calculate the t-critical value for 95% confidence\n",
    "from scipy.stats import t\n",
    "t_critical = t.ppf(1 - (1 - confidence_level) / 2, df)\n",
    "\n",
    "# Calculate the confidence interval\n",
    "diff_means = mean_a - mean_b\n",
    "margin_of_error = t_critical * se_diff\n",
    "lower_bound = diff_means - margin_of_error\n",
    "upper_bound = diff_means + margin_of_error\n",
    "\n",
    "lower_bound, upper_bound\n"
   ]
  },
  {
   "cell_type": "code",
   "execution_count": 4,
   "metadata": {},
   "outputs": [
    {
     "data": {
      "text/plain": [
       "1.987341760079775"
      ]
     },
     "execution_count": 4,
     "metadata": {},
     "output_type": "execute_result"
    }
   ],
   "source": [
    "t_critical"
   ]
  },
  {
   "cell_type": "code",
   "execution_count": 5,
   "metadata": {},
   "outputs": [
    {
     "data": {
      "text/plain": [
       "4.609604833377861"
      ]
     },
     "execution_count": 5,
     "metadata": {},
     "output_type": "execute_result"
    }
   ],
   "source": [
    "margin_of_error"
   ]
  },
  {
   "cell_type": "code",
   "execution_count": null,
   "metadata": {},
   "outputs": [],
   "source": []
  }
 ],
 "metadata": {
  "kernelspec": {
   "display_name": "env_studies",
   "language": "python",
   "name": "python3"
  },
  "language_info": {
   "codemirror_mode": {
    "name": "ipython",
    "version": 3
   },
   "file_extension": ".py",
   "mimetype": "text/x-python",
   "name": "python",
   "nbconvert_exporter": "python",
   "pygments_lexer": "ipython3",
   "version": "3.10.4"
  }
 },
 "nbformat": 4,
 "nbformat_minor": 2
}
